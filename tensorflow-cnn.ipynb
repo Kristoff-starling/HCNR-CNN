{
 "cells": [
  {
   "cell_type": "markdown",
   "metadata": {},
   "source": [
    "# Project: 基于Tensorflow框架运用CNN实现手写汉字识别\n",
   ]
  },
  {
   "cell_type": "markdown",
   "metadata": {},
   "source": [
    "（注：本文件中数据加载均使用了绝对路径，欲复现实验结果请修改为相对路径或测试机上相应的绝对路径）\n",
    "\n",
    "（注：本项目采用了MNIST上的中文汉字数据集）"
   ]
  },
  {
   "cell_type": "markdown",
   "metadata": {},
   "source": [
    "## 0. 库文件准备"
   ]
  },
  {
   "cell_type": "code",
   "execution_count": 38,
   "metadata": {},
   "outputs": [
    {
     "name": "stdout",
     "output_type": "stream",
     "text": [
      "1.15.0\n"
     ]
    }
   ],
   "source": [
    "# based on tensorflow version 1.15.0\n",
    "import math\n",
    "import numpy as np\n",
    "import h5py\n",
    "import matplotlib.pyplot as plt\n",
    "import scipy\n",
    "from PIL import Image\n",
    "from scipy import ndimage\n",
    "import tensorflow as tf\n",
    "from tensorflow.python.framework import ops\n",
    "\n",
    "%matplotlib inline\n",
    "np.random.seed(1)\n",
    "print(tf.__version__)"
   ]
  },
  {
   "cell_type": "markdown",
   "metadata": {},
   "source": [
    "## 1. 数据生成和读入"
   ]
  },
  {
   "cell_type": "markdown",
   "metadata": {},
   "source": [
    "使用如下代码将数据集打包成h5py格式的文件"
   ]
  },
  {
   "cell_type": "raw",
   "metadata": {},
   "source": [
    "def save_image_to_h5py_train(path):\n",
    "    img_list = []\n",
    "    label_list = []\n",
    "    dir_counter = 1\n",
    " \n",
    "    for child_dir in os.listdir(path):\n",
    "        print(child_dir)\n",
    "        child_path = os.path.join(path, child_dir)\n",
    "        num_for_test = 0\n",
    "        for dir_image in os.listdir(child_path):\n",
    "\n",
    "            img = cv2.imread(os.path.join(child_path, dir_image))\n",
    "            img_list.append(img)\n",
    "            label_list.append(dir_counter)\n",
    "\n",
    "            if num_for_test > 800:\n",
    "                break\n",
    "            num_for_test = num_for_test + 1\n",
    " \n",
    "        dir_counter += 1\n",
    " \n",
    "    img_np = np.array(img_list)\n",
    "    label_np = np.array(label_list)\n",
    " \n",
    "    f = h5py.File('D:/aiproj/train.h5', 'w')\n",
    "    f.create_dataset('train_set_x', data=img_np)\n",
    "    f.create_dataset('train_set_y', data=label_np)\n",
    "    f.close()\n",
    " \n",
    "save_image_to_h5py_train('D:/aiproj/rawdata/train')\n",
    "\n",
    "def save_image_to_h5py_test(path):\n",
    "    img_list = []\n",
    "    label_list = []\n",
    "    dir_counter = 1\n",
    " \n",
    "    for child_dir in os.listdir(path):\n",
    "        print(child_dir)\n",
    "        child_path = os.path.join(path, child_dir)\n",
    "        num_for_test = 0\n",
    "        for dir_image in os.listdir(child_path):\n",
    "\n",
    "            img = cv2.imread(os.path.join(child_path, dir_image))\n",
    "            img_list.append(img)\n",
    "            label_list.append(dir_counter)\n",
    "\n",
    "            if num_for_test > 200:\n",
    "                break\n",
    "            num_for_test = num_for_test + 1\n",
    " \n",
    "        dir_counter += 1\n",
    " \n",
    "    img_np = np.array(img_list)\n",
    "    label_np = np.array(label_list)\n",
    " \n",
    "    f = h5py.File('D:/aiproj/test.h5', 'w')\n",
    "    f.create_dataset('test_set_x', data=img_np)\n",
    "    f.create_dataset('test_set_y', data=label_np)\n",
    "    f.close()\n",
    " \n",
    "save_image_to_h5py_test('D:/aiproj/rawdata/test')"
   ]
  },
  {
   "cell_type": "code",
   "execution_count": 39,
   "metadata": {},
   "outputs": [],
   "source": [
    "# coursera's cnn_utils.py\n",
    "\n",
    "# read data from h5py files\n",
    "def load_dataset():\n",
    "    train_dataset = h5py.File('D:/aiproj/train.h5', \"r\")\n",
    "    train_set_x_orig = np.array(train_dataset[\"train_set_x\"][:]) \n",
    "    train_set_y_orig = np.array(train_dataset[\"train_set_y\"][:]) \n",
    "\n",
    "    test_dataset = h5py.File('D:/aiproj/test.h5', \"r\")\n",
    "    test_set_x_orig = np.array(test_dataset[\"test_set_x\"][:]) \n",
    "    test_set_y_orig = np.array(test_dataset[\"test_set_y\"][:]) \n",
    "    # \n",
    "    \n",
    "    train_set_y_orig = train_set_y_orig.reshape((1, train_set_y_orig.shape[0]))\n",
    "    test_set_y_orig = test_set_y_orig.reshape((1, test_set_y_orig.shape[0]))\n",
    "    \n",
    "    return train_set_x_orig, train_set_y_orig, test_set_x_orig, test_set_y_orig\n",
    "\n",
    "# randomize the order of data and create batches for minibatch-training\n",
    "def random_mini_batches(X, Y, mini_batch_size = 64, seed = 0):\n",
    "    \"\"\"\n",
    "    Creates a list of random minibatches from (X, Y)\n",
    "    \n",
    "    Arguments:\n",
    "    X -- input data, of shape (input size, number of examples) (m, Hi, Wi, Ci)\n",
    "    Y -- true \"label\" vector (containing 0 if cat, 1 if non-cat), of shape (1, number of examples) (m, n_y)\n",
    "    mini_batch_size - size of the mini-batches, integer\n",
    "    seed -- this is only for the purpose of grading, so that you're \"random minibatches are the same as ours.\n",
    "    \n",
    "    Returns:\n",
    "    mini_batches -- list of synchronous (mini_batch_X, mini_batch_Y)\n",
    "    \"\"\"\n",
    "    \n",
    "    m = X.shape[0]                  # number of training examples\n",
    "    mini_batches = []\n",
    "    np.random.seed(seed)\n",
    "    \n",
    "    # Step 1: Shuffle (X, Y)\n",
    "    permutation = list(np.random.permutation(m))\n",
    "    shuffled_X = X[permutation,:,:,:]\n",
    "    shuffled_Y = Y[permutation,:]\n",
    "\n",
    "    # Step 2: Partition (shuffled_X, shuffled_Y). Minus the end case.\n",
    "    num_complete_minibatches = math.floor(m/mini_batch_size) # number of mini batches of size mini_batch_size in your partitionning\n",
    "    for k in range(0, num_complete_minibatches):\n",
    "        mini_batch_X = shuffled_X[k * mini_batch_size : k * mini_batch_size + mini_batch_size,:,:,:]\n",
    "        mini_batch_Y = shuffled_Y[k * mini_batch_size : k * mini_batch_size + mini_batch_size,:]\n",
    "        mini_batch = (mini_batch_X, mini_batch_Y)\n",
    "        mini_batches.append(mini_batch)\n",
    "    \n",
    "    # Handling the end case (last mini-batch < mini_batch_size)\n",
    "    if m % mini_batch_size != 0:\n",
    "        mini_batch_X = shuffled_X[num_complete_minibatches * mini_batch_size : m,:,:,:]\n",
    "        mini_batch_Y = shuffled_Y[num_complete_minibatches * mini_batch_size : m,:]\n",
    "        mini_batch = (mini_batch_X, mini_batch_Y)\n",
    "        mini_batches.append(mini_batch)\n",
    "    \n",
    "    return mini_batches\n",
    "\n",
    "# Convert labels to one_hot_code\n",
    "def convert_to_one_hot(Y, C):\n",
    "    Y = np.eye(C)[Y.reshape(-1)].T\n",
    "    return Y\n",
    "\n",
    "def forward_propagation_for_predict(X, parameters):\n",
    "    \"\"\"\n",
    "    Implements the forward propagation for the model: LINEAR -> RELU -> LINEAR -> RELU -> LINEAR -> SOFTMAX\n",
    "    \n",
    "    Arguments:\n",
    "    X -- input dataset placeholder, of shape (input size, number of examples)\n",
    "    parameters -- python dictionary containing your parameters \"W1\", \"b1\", \"W2\", \"b2\", \"W3\", \"b3\"\n",
    "                  the shapes are given in initialize_parameters\n",
    "    Returns:\n",
    "    Z3 -- the output of the last LINEAR unit\n",
    "    \"\"\"\n",
    "    \n",
    "    # Retrieve the parameters from the dictionary \"parameters\" \n",
    "    W1 = parameters['W1']\n",
    "    b1 = parameters['b1']\n",
    "    W2 = parameters['W2']\n",
    "    b2 = parameters['b2']\n",
    "    W3 = parameters['W3']\n",
    "    b3 = parameters['b3'] \n",
    "                                                           # Numpy Equivalents:\n",
    "    Z1 = tf.add(tf.matmul(W1, X), b1)                      # Z1 = np.dot(W1, X) + b1\n",
    "    A1 = tf.nn.relu(Z1)                                    # A1 = relu(Z1)\n",
    "    Z2 = tf.add(tf.matmul(W2, A1), b2)                     # Z2 = np.dot(W2, a1) + b2\n",
    "    A2 = tf.nn.relu(Z2)                                    # A2 = relu(Z2)\n",
    "    Z3 = tf.add(tf.matmul(W3, A2), b3)                     # Z3 = np.dot(W3,Z2) + b3\n",
    "    \n",
    "    return Z3\n",
    "\n",
    "def predict(X, parameters):\n",
    "    \n",
    "    W1 = tf.convert_to_tensor(parameters[\"W1\"])\n",
    "    b1 = tf.convert_to_tensor(parameters[\"b1\"])\n",
    "    W2 = tf.convert_to_tensor(parameters[\"W2\"])\n",
    "    b2 = tf.convert_to_tensor(parameters[\"b2\"])\n",
    "    W3 = tf.convert_to_tensor(parameters[\"W3\"])\n",
    "    b3 = tf.convert_to_tensor(parameters[\"b3\"])\n",
    "    \n",
    "    params = {\"W1\": W1,\n",
    "              \"b1\": b1,\n",
    "              \"W2\": W2,\n",
    "              \"b2\": b2,\n",
    "              \"W3\": W3,\n",
    "              \"b3\": b3}\n",
    "    \n",
    "    x = tf.placeholder(\"float\", [12288, 1])\n",
    "    \n",
    "    z3 = forward_propagation_for_predict(x, params)\n",
    "    p = tf.argmax(z3)\n",
    "    \n",
    "    sess = tf.Session()\n",
    "    prediction = sess.run(p, feed_dict = {x: X})\n",
    "        \n",
    "    return prediction"
   ]
  },
  {
   "cell_type": "code",
   "execution_count": 40,
   "metadata": {},
   "outputs": [],
   "source": [
    "# read data: train_set, train_set_label, test_set, test_set_label\n",
    "X_train_orig, Y_train_orig, X_test_orig, Y_test_orig = load_dataset()"
   ]
  },
  {
   "cell_type": "code",
   "execution_count": 41,
   "metadata": {},
   "outputs": [
    {
     "name": "stdout",
     "output_type": "stream",
     "text": [
      "number of training examples = 8000\n",
      "number of test examples = 2000\n",
      "X_train shape: (8000, 64, 64, 3)\n",
      "Y_train shape: (8000, 11)\n",
      "X_test shape: (2000, 64, 64, 3)\n",
      "Y_test shape: (2000, 11)\n"
     ]
    }
   ],
   "source": [
    "# generate one-hot code and check the sizes of dataset\n",
    "# 本项目中训练集数据共8000个（1~10各800个），测试集数据共2000个（1~10各200个）\n",
    "X_train = X_train_orig/255.\n",
    "X_test = X_test_orig/255.\n",
    "Y_train = convert_to_one_hot(Y_train_orig, 11).T\n",
    "Y_test = convert_to_one_hot(Y_test_orig, 11).T\n",
    "print (\"number of training examples = \" + str(X_train.shape[0]))\n",
    "print (\"number of test examples = \" + str(X_test.shape[0]))\n",
    "print (\"X_train shape: \" + str(X_train.shape))\n",
    "print (\"Y_train shape: \" + str(Y_train.shape))\n",
    "print (\"X_test shape: \" + str(X_test.shape))\n",
    "print (\"Y_test shape: \" + str(Y_test.shape))\n",
    "conv_layers = {}"
   ]
  },
  {
   "cell_type": "code",
   "execution_count": 43,
   "metadata": {},
   "outputs": [
    {
     "name": "stdout",
     "output_type": "stream",
     "text": [
      "y = 3\n"
     ]
    },
    {
     "data": {
      "image/png": "iVBORw0KGgoAAAANSUhEUgAAAPsAAAD7CAYAAACscuKmAAAAOXRFWHRTb2Z0d2FyZQBNYXRwbG90bGliIHZlcnNpb24zLjMuNCwgaHR0cHM6Ly9tYXRwbG90bGliLm9yZy8QVMy6AAAACXBIWXMAAAsTAAALEwEAmpwYAAASgElEQVR4nO3dW6wd1X3H8e8PX7jaYGPsGhvKzRhhBCZYFCsICAhKIxp4iFCiVnIrS35JJaK0ItBKbROpUngJ4aEXWYGGhzbgQLiIB4hrjFoJCbCxCb7g4AAWNrYPvgAGg8Hw78OeM157cvY+++zrOV6/j2SdtWdmz/x99v6fWWvWmjWKCMzs+HfCoAMws/5wsptlwslulgknu1kmnOxmmXCym2Wio2SXdKukbZK2S7qnW0GZWfep3X52SZOA3wE3AzuBV4DvRsSW7oVnZt0yuYP3Xg1sj4i3ACQ9AtwONEx2SR7BY9ZjEaGRlndSjZ8HvJu83lksM7NxqJMze0skrQBW9Po4ZtZcJ8m+CzgneT2/WFYnIlYCK8HVeLNB6qQa/wqwQNL5kqYC3wGe7k5YZtZtbZ/ZI+KopL8BngMmAQ9FxOauRWZmXdV211tbB3M13qznenE13swmECe7WSac7GaZcLKbZcLJbpYJJ7tZJpzsZplwsptlwslulgknu1kmnOxmmXCym2XCyW6WCSe7WSac7GaZcLKbZcLJbpYJJ7tZJpzsZplwsptlwslulgknu1kmnOxmmXCym2XCyW6WiVGTXdJDkoYkbUqWzZS0WtKbxc8ZvQ3TzDrVypn9F8CtlWX3AGsiYgGwpnhtZuPYqMkeEf8LHKgsvh14uCg/DNzR3bDMrNvabbPPiYjdRXkPMKdL8ZhZj7T9yOZhERHNns4qaQWwotPjmFln2j2z75U0F6D4OdRow4hYGRFLImJJm8cysy5oN9mfBpYV5WXAU90Jx8x6RRENa+C1DaRfAjcAs4C9wD8BTwKrgHOBHcCdEVG9iDfSvpofzMw6FhEaafmoyd5NTnaz3muU7B5BZ5YJJ7tZJpzsZplwsptlwslulgknu1kmnOxmmXCym2XCyW6WCSe7WSac7GaZcLKbZcLJbpYJJ7tZJpzsZplwsptlwslulgknu1kmnOxmmXCym2XCyW6WCSe7WSac7GaZcLKbZcLJbpaJUZNd0jmS1kraImmzpLuK5TMlrZb0ZvFzRu/DNbN2tfKst7nA3Ih4VdI0YD1wB/BXwIGI+Imke4AZEfHDUfblxz+Z9Vjbj3+KiN0R8WpRPgRsBeYBtwMPF5s9TO0PgJmNU2Nqs0s6D7gSeAmYExG7i1V7gDndDc3MumlyqxtKOg14HPh+RHwkHaspREQ0qqJLWgGs6DRQM+tMS49sljQFeAZ4LiJ+WizbBtwQEbuLdv0LEbFwlP24zW7WY2232VU7hT8IbB1O9MLTwLKivAx4qtMgzax3Wrkafy3wf8DrwFfF4r+n1m5fBZwL7ADujIgDo+zLZ3azHmt0Zm+pGt8tTnaz3mu7Gm9mxwcnu1kmnOxmmXCym2XCyW6WCSe7WSac7GaZcLKbZcLJbpYJJ7tZJpzsZplwsptlwslulgknu1kmnOxmmXCym2XCyW6WCSe7WSac7GaZcLKbZcLJbpYJJ7tZJpzsZplwsptlwslulolWnvV2kqSXJb0mabOkHxXLz5f0kqTtkh6VNLX34ZpZu1o5sx8BboyIK4DFwK2SrgHuA+6PiIuAg8DynkVpZh0bNdmj5uPi5ZTiXwA3Ao8Vyx8G7uhFgGbWHS212SVNkrQRGAJWA78HPoiIo8UmO4F5PYnQzLqipWSPiC8jYjEwH7gauKTVA0haIWmdpHXthWhm3TCmq/ER8QGwFlgKnCFpcrFqPrCrwXtWRsSSiFjSSaBm1plWrsafJemMonwycDOwlVrSf7vYbBnwVI9iNLMuUEQ030C6nNoFuEnU/jisiogfS7oAeASYCWwA/jIijoyyr+YHM7OORYRGWj5qsneTk92s9xol++SRFtr4dtJJJ5Xlzz77rKX3SPWff7M/8meffXZZvvjii8vy0qVL67abM2dOWV61alXduhdffLEsn3jiiWX5yJGmlT/rIQ+XNcuEk90sE26zT0BnnXVWWV60aFHdulNPPbUsz5gxoyzPmjWr4XZpdRzgq6++KsuvvvpqWd60aVPddvv37y/LBw4cqFt3+PDhsvzll1+O8L/4wxgPHjzYcDtrXaM2u8/sZplwsptlwslulgl3vU1Ay5cfu5v4sssuq1v39ttvl+X333+/LG/fvr1uu9dff70sn3BC/d/8dB/z5h27v2nXrhFHRI9o8uRjX61JkyaV5Wr7/eOPP8b6w2d2s0w42c0y4a63CSgdDTd79uy6dfv27SvL6ci1avU5HclWrcanXW/NTJs2rSxXR/J98cUXZXnq1GMzln3++ect7dva5643s8w52c0y4WQ3y4Tb7BNQ2mbv9eeXtss//fTTunVHjx4ty9W76lLNYvQdcd3nNrtZ5pzsZplwNX6Cq1af02px2h2WLgeYPn16WU7vXoPWu96axZF2tzWrnqfdfu0c1/6Qq/FmmXOym2XC1fgJrlo978YV7fTGlbRcPdahQ4fKcnrjC9RXz9NRc1OmTKnbLh1pZ93harxZ5pzsZplwsptlwpNXTHDNrrmk88tX29TppBFXXnll3bqFCxeW5XRyy+qEk2vXri3L6Wi6ZtJrAFB/N5673nqr5TN78djmDZKeKV6fL+klSdslPSpp6mj7MLPBGUs1/i5qD3Qcdh9wf0RcBBwElo/4LjMbF1rqepM0n9rDHf8F+AHw58D7wB9FxFFJS4F/jog/HWU/7nrrgnTO908++aRu3fz588ty+rimCy+8sG67uXPnNtzHhg0byvKOHTvK8ocffli3XTrHXXVds7niU+nIu2aPqGq1i7i6j0Y36BzPTYZOu95+BtwNDP+GzgQ+iIjhhtpOYN4I7zOzcaKV57PfBgxFxPp2DiBphaR1kta1834z645WrsZ/HfiWpG8CJwHTgQeAMyRNLs7u84ER5xmOiJXASnA13myQxjRcVtINwN9FxG2SfgU8HhGPSPoP4LcR8W+jvN/J3mUzZ86se33dddeV5TPPPLMsb968uW67tC1ebbN/9NFHZTkdIlsd2tqs3Zu2ldOhs9Xv2/Hcdh6UXgyX/SHwA0nbqbXhH+xgX2bWY2MaVBMRLwAvFOW3gKu7H5KZ9YLvepuA0jvHqlXrdNRcWgWvdo2l1ezq6Lpu3IlW3eewZiPtqvPXp9rtosuxmeC73swy52Q3y4Sr8VY3Ig/qq9pp1bo6Ki7drtXvUT+/b7lyNd4sc052s0w42c0y4Tb7BFftrkq729LPtvpI5Valk020eidbM80eE1Wd2CKNP+1CG+OozxHLx3OXnNvsZplzsptlwtX4CeiUU04py4cPH25rH+lIu2qVNu1Sa7e626i63uz7Vm2StDN5xWj7HOZqvJkdt5zsZplwsptlwm32Ca7Vrrdqt1mzO9sadbdVj9XsLrVmx+629PqAh+O6zW6WPSe7WSb8+KcJrlqV/vTTT0fcrtnItarqSLZG0up5q9XnarzpsU477bS6dekEGFOnHnvgUPWxz81GxqXdiGl57969LcV7PPGZ3SwTTnazTLga3wXVam9arWw251qzqnVaLR7LnGtp1Td9X1oNBpg1a1ZZTh8ZBTB79uyynI60O/300+u2S5/wWp3SOh3ll1a7q7+r9HXakwD1PQZHjhwpy59//jmNVP+f6T7TOKrHevbZZ8vyk08+Wbfuvffea3i8dJ9pE6LXPRDt8JndLBNOdrNMONnNMuERdD1WbW+nbepqN1Gzdnoqfdxy9VHMV111VVleuHBhWZ42bVrddmkX3cGDB+vWpY+DOnDgQFk+dOhQ3Xb79u0ry0NDQ3Xr0n2m+2v2CKnqY6jSdem1j2bt4eo1gfT3nXb7pdcUoH5e/bHMm9/oc6ou7+dddo1G0LV0gU7SO8Ah4EvgaEQskTQTeBQ4D3gHuDMiDjbah5kN1liq8d+IiMURsaR4fQ+wJiIWAGuK12Y2TrVUjS/O7EsiYl+ybBtwQ0TsljQXeCEiFjbaR/Ge47Iaf/LJJ9e9bjSKrapa1bv88svL8i233FKWFyxYULddOmHFnj176ta98cYbZXnLli1lOX1qK9R3ZVWl1d00xna7k5p1vaXanSev29LuRqiPuRrjeOxi6/RGmAB+I2m9pBXFsjkRsbso7wHmdBijmfVQq4Nqro2IXZJmA6slvZGujIhodNYu/jisGGmdmfVPS2f2iNhV/BwCnqD2qOa9RfWd4udQg/eujIglSVvfzAZg1Da7pFOBEyLiUFFeDfwYuAnYHxE/kXQPMDMi7h5lX8dlm71q+vTpZfmmm26qW3f99deX5WrbcP/+/WV548aNZfn5559vuF0zadu7WVu52WOOm3UZpe35ZhNZtNqubdbdOJa79lKNvt/V6yxpd1s3Hlld/X1MlK63OcATxS97MvDfEfGspFeAVZKWAzuAO7sVrJl136jJHhFvAVeMsHw/tbO7mU0AHkHXBdUq5owZM8ryokWLGm67fv36unXVEWSNpFXyZqPwmsXY58+9LFcnnkhHuFW7LLsdYzfmqqtWz9P/T6uj/HrNc9CZZc7JbpYJJ7tZJtxm77Nmj0BOZ09J27LVtnzaTqzuo9UunjSOajs0bdums8JU2/3deARy+v+s/l962WZvNvFl9f/ZbGLNRo+VHiS32c0y52Q3y4Sr8V1Qnbwwrc5Vf7/tzLXeTKuTVvZCo8ktob3JF3vxf2nn0dHtanS3IPS3K87VeLPMOdnNMuFq/ABVb05pVP2vjjpLb9Ro9UmqY/mcG+1zLFebG135bnXEX3UfjcpVza6WNztWs6vx6ci4ZnMKplX1QV6ZdzXeLHNOdrNMONnNMuE2u9lxxm12s8w52c0y4WQ3y4ST3SwTTnazTDjZzTLhZDfLhJPdLBNOdrNMONnNMtFSsks6Q9Jjkt6QtFXSUkkzJa2W9Gbxc8boezKzQWn1zP4A8GxEXELtUVBbgXuANRGxAFhTvDazcaqVp7ieDmwELohkY0nbgBsiYnfxyOYXImLhKPvyjTBmPdbJjTDnA+8D/ylpg6SfF49unhMRu4tt9lB72quZjVOtJPtk4GvAv0fElcAnVKrsxRl/xLO2pBWS1kla12mwZta+VpJ9J7AzIl4qXj9GLfn3FtV3ip9DI705IlZGxJKIWNKNgM2sPaMme0TsAd6VNNwevwnYAjwNLCuWLQOe6kmEZtYVLc1UI2kx8HNgKvAW8NfU/lCsAs4FdgB3RsSBUfbjC3RmPdboAp2npTI7znhaKrPMOdnNMuFkN8uEk90sE052s0w42c0y4WQ3y8Tk0Tfpqn3UBuDMKsqDNB5iAMdR5TjqjTWOP260oq+DasqDSusGPVZ+PMTgOBxHP+NwNd4sE052s0wMKtlXDui4qfEQAziOKsdRr2txDKTNbmb952q8WSb6muySbpW0TdJ2SX2bjVbSQ5KGJG1KlvV9KmxJ50haK2mLpM2S7hpELJJOkvSypNeKOH5ULD9f0kvF5/OopKm9jCOJZ1Ixv+Ezg4pD0juSXpe0cXgKtQF9R3o2bXvfkl3SJOBfgT8DLgW+K+nSPh3+F8CtlWWDmAr7KPC3EXEpcA3wveJ30O9YjgA3RsQVwGLgVknXAPcB90fERcBBYHmP4xh2F7XpyYcNKo5vRMTipKtrEN+R3k3bHhF9+QcsBZ5LXt8L3NvH458HbEpebwPmFuW5wLZ+xZLE8BRw8yBjAU4BXgX+hNrgjckjfV49PP784gt8I/AMoAHF8Q4wq7Ksr58LcDrwNsW1tG7H0c9q/Dzg3eT1zmLZoAx0KmxJ5wFXAi8NIpai6ryR2kShq4HfAx9ExNFik359Pj8D7ga+Kl6fOaA4AviNpPWSVhTL+v259HTadl+go/lU2L0g6TTgceD7EfHRIGKJiC8jYjG1M+vVwCW9PmaVpNuAoYhY3+9jj+DaiPgatWbm9yRdl67s0+fS0bTto+lnsu8Czklezy+WDUpLU2F3m6Qp1BL9vyLi14OMBSAiPgDWUqsunyFp+H6Jfnw+Xwe+Jekd4BFqVfkHBhAHEbGr+DkEPEHtD2C/P5eOpm0fTT+T/RVgQXGldSrwHWrTUQ9K36fCliTgQWBrRPx0ULFIOkvSGUX5ZGrXDbZSS/pv9yuOiLg3IuZHxHnUvg/PR8Rf9DsOSadKmjZcBm4BNtHnzyV6PW17ry98VC40fBP4HbX24T/08bi/BHYDX1D767mcWttwDfAm8D/AzD7EcS21KthvqT0/b2PxO+lrLMDlwIYijk3APxbLLwBeBrYDvwJO7ONndAPwzCDiKI73WvFv8/B3c0DfkcXAuuKzeRKY0a04PILOLBO+QGeWCSe7WSac7GaZcLKbZcLJbpYJJ7tZJpzsZplwsptl4v8Bg4B6HRYnd4EAAAAASUVORK5CYII=\n",
      "text/plain": [
       "<Figure size 432x288 with 1 Axes>"
      ]
     },
     "metadata": {
      "needs_background": "light"
     },
     "output_type": "display_data"
    }
   ],
   "source": [
    "# Example of a picture\n",
    "index = 2388\n",
    "plt.imshow(X_train_orig[index])\n",
    "print (\"y = \" + str(np.squeeze(Y_train_orig[:, index])))"
   ]
  },
  {
   "cell_type": "markdown",
   "metadata": {},
   "source": [
    "## 2. CNN构建"
   ]
  },
  {
   "cell_type": "markdown",
   "metadata": {},
   "source": [
    "### 2.1 创建占位符"
   ]
  },
  {
   "cell_type": "code",
   "execution_count": 44,
   "metadata": {},
   "outputs": [],
   "source": [
    "# GRADED FUNCTION: create_placeholders\n",
    "\n",
    "def create_placeholders(n_H0, n_W0, n_C0, n_y):\n",
    "\n",
    "    X = tf.placeholder(tf.float32, shape=[None, n_H0, n_W0, n_C0])\n",
    "    Y = tf.placeholder(tf.float32, shape=[None, n_y])\n",
    "    \n",
    "    return X, Y"
   ]
  },
  {
   "cell_type": "code",
   "execution_count": 45,
   "metadata": {},
   "outputs": [
    {
     "name": "stdout",
     "output_type": "stream",
     "text": [
      "X = Tensor(\"Placeholder_2:0\", shape=(?, 64, 64, 3), dtype=float32)\n",
      "Y = Tensor(\"Placeholder_3:0\", shape=(?, 11), dtype=float32)\n"
     ]
    }
   ],
   "source": [
    "X, Y = create_placeholders(64, 64, 3, 11)\n",
    "print (\"X = \" + str(X))\n",
    "print (\"Y = \" + str(Y))"
   ]
  },
  {
   "cell_type": "markdown",
   "metadata": {},
   "source": [
    "### 2.2 初始化参数"
   ]
  },
  {
   "cell_type": "markdown",
   "metadata": {},
   "source": [
    "初始化三个矩阵：用于第一次卷积操作的$W1$，用于第二次卷积的$W2$和用于全连接层的$W3$"
   ]
  },
  {
   "cell_type": "code",
   "execution_count": 46,
   "metadata": {},
   "outputs": [],
   "source": [
    "# GRADED FUNCTION: initialize_parameters\n",
    "\n",
    "def initialize_parameters():\n",
    "    \n",
    "    tf.set_random_seed(1)                   \n",
    "        \n",
    "    W1 = tf.get_variable(\"W1\",  [4, 4, 3, 8], initializer=tf.contrib.layers.xavier_initializer(seed=0))\n",
    "    W2 = tf.get_variable(\"W2\",  [2, 2, 8, 16], initializer=tf.contrib.layers.xavier_initializer(seed=0))\n",
    "    W3 = tf.get_variable(\"W3\",  [64,11], initializer=tf.contrib.layers.xavier_initializer(seed=0))\n",
    "\n",
    "    parameters = {\"W1\": W1,\n",
    "                  \"W2\": W2,\n",
    "                  \"W3\": W3}\n",
    "    \n",
    "    return parameters"
   ]
  },
  {
   "cell_type": "code",
   "execution_count": 47,
   "metadata": {},
   "outputs": [
    {
     "name": "stdout",
     "output_type": "stream",
     "text": [
      "W1 = [ 0.00131723  0.1417614  -0.04434952  0.09197326  0.14984085 -0.03514394\n",
      " -0.06847463  0.05245192]\n",
      "W2 = [-0.08566415  0.17750949  0.11974221  0.16773748 -0.0830943  -0.08058\n",
      " -0.00577033 -0.14643836  0.24162132 -0.05857408 -0.19055021  0.1345228\n",
      " -0.22779644 -0.1601823  -0.16117483 -0.10286498]\n",
      "W3 = 0.22897467\n"
     ]
    }
   ],
   "source": [
    "tf.reset_default_graph()\n",
    "with tf.Session() as sess_test:\n",
    "    parameters = initialize_parameters()\n",
    "    init = tf.global_variables_initializer()\n",
    "    sess_test.run(init)\n",
    "    print(\"W1 = \" + str(parameters[\"W1\"].eval()[1,1,1]))\n",
    "    print(\"W2 = \" + str(parameters[\"W2\"].eval()[1,1,1]))\n",
    "    print(\"W3 = \" + str(parameters[\"W3\"].eval()[1,1]))"
   ]
  },
  {
   "cell_type": "markdown",
   "metadata": {},
   "source": [
    "### 2.3 正向传播"
   ]
  },
  {
   "cell_type": "markdown",
   "metadata": {},
   "source": [
    "本模型采用的卷积神经网络结构为：\n",
    "\n",
    "INPUT->CONV2D->ReLU->MAXPOOL->CONV2D->ReLU->MAXPOOL->FLATTEN->FC->OUTPUT\n",
    "\n",
    "两层卷积层+一个全连接层"
   ]
  },
  {
   "cell_type": "code",
   "execution_count": 48,
   "metadata": {},
   "outputs": [],
   "source": [
    "# GRADED FUNCTION: forward_propagation\n",
    "\n",
    "def forward_propagation(X, parameters):\n",
    "    \n",
    "    # Retrieve the parameters from the dictionary \"parameters\" \n",
    "    W1 = parameters['W1']\n",
    "    W2 = parameters['W2']\n",
    "    W3 = parameters['W3']\n",
    "    \n",
    "    # CONV2D: stride of 1, padding 'SAME'\n",
    "    Z1 = tf.nn.conv2d(X, W1, strides=[1,1,1,1], padding=\"SAME\")\n",
    "    # RELU\n",
    "    A1 = tf.nn.relu(Z1)\n",
    "    # MAXPOOL: window 8x8, sride 8, padding 'SAME'\n",
    "    P1 = tf.nn.max_pool(A1, ksize=[1,8,8,1], strides=[1,8,8,1], padding=\"SAME\")\n",
    "    # CONV2D: filters W2, stride 1, padding 'SAME'\n",
    "    Z2 = tf.nn.conv2d(P1, W2, strides=[1,1,1,1], padding=\"SAME\")\n",
    "    # RELU\n",
    "    A2 = tf.nn.relu(Z2)\n",
    "    # MAXPOOL: window 4x4, stride 4, padding 'SAME'\n",
    "    P2 = tf.nn.max_pool(A2, ksize=[1,4,4,1], strides=[1,4,4,1], padding=\"SAME\")\n",
    "    # FLATTEN\n",
    "    P2 = tf.contrib.layers.flatten(P2)\n",
    "    # FULLY-CONNECTED without non-linear activation function (not not call softmax).\n",
    "    Z3 = tf.matmul(P2, W3)\n",
    "\n",
    "    return Z3"
   ]
  },
  {
   "cell_type": "code",
   "execution_count": 49,
   "metadata": {},
   "outputs": [
    {
     "name": "stdout",
     "output_type": "stream",
     "text": [
      "Z3 = [[ 0.84416395 -3.4655445  -1.6936754  -0.4349423  -2.8247495   0.01648861\n",
      "  -1.867836    0.29792055  1.2037647  -1.988553   -0.18148702]\n",
      " [ 0.90059566 -3.12745    -1.2018632  -0.73227805 -2.579939   -0.1510058\n",
      "  -1.6406404   0.07038447  1.0390121  -1.6772214  -0.21764022]]\n"
     ]
    }
   ],
   "source": [
    "tf.reset_default_graph()\n",
    "\n",
    "with tf.Session() as sess:\n",
    "    np.random.seed(1)\n",
    "    X, Y = create_placeholders(64, 64, 3, 11)\n",
    "    parameters = initialize_parameters()\n",
    "    Z3 = forward_propagation(X, parameters)\n",
    "    init = tf.global_variables_initializer()\n",
    "    sess.run(init)\n",
    "    a = sess.run(Z3, {X: np.random.randn(2,64,64,3), Y: np.random.randn(2,11)})\n",
    "    print(\"Z3 = \" + str(a))"
   ]
  },
  {
   "cell_type": "markdown",
   "metadata": {},
   "source": [
    "### 2.4 代价函数"
   ]
  },
  {
   "cell_type": "markdown",
   "metadata": {},
   "source": [
    "代价函数使用softmax+交叉熵"
   ]
  },
  {
   "cell_type": "code",
   "execution_count": 50,
   "metadata": {},
   "outputs": [],
   "source": [
    "# GRADED FUNCTION: compute_cost \n",
    "\n",
    "def compute_cost(Z3, Y):\n",
    "\n",
    "    cost = tf.nn.softmax_cross_entropy_with_logits_v2(logits = Z3, labels = Y)\n",
    "    cost = tf.reduce_mean(cost)\n",
    "    \n",
    "    return cost"
   ]
  },
  {
   "cell_type": "code",
   "execution_count": 51,
   "metadata": {},
   "outputs": [
    {
     "name": "stdout",
     "output_type": "stream",
     "text": [
      "cost = -0.20528305\n"
     ]
    }
   ],
   "source": [
    "tf.reset_default_graph()\n",
    "\n",
    "with tf.Session() as sess:\n",
    "    np.random.seed(1)\n",
    "    X, Y = create_placeholders(64, 64, 3, 11)\n",
    "    parameters = initialize_parameters()\n",
    "    Z3 = forward_propagation(X, parameters)\n",
    "    cost = compute_cost(Z3, Y)\n",
    "    init = tf.global_variables_initializer()\n",
    "    sess.run(init)\n",
    "    a = sess.run(cost, {X: np.random.randn(4,64,64,3), Y: np.random.randn(4,11)})\n",
    "    print(\"cost = \" + str(a))"
   ]
  },
  {
   "cell_type": "markdown",
   "metadata": {},
   "source": [
    "### 2.5 建立完整CNN模型1"
   ]
  },
  {
   "cell_type": "code",
   "execution_count": 54,
   "metadata": {},
   "outputs": [],
   "source": [
    "# GRADED FUNCTION: model\n",
    "\n",
    "def model(X_train, Y_train, X_test, Y_test, learning_rate = 0.009,\n",
    "          num_epochs = 30, minibatch_size = 64, print_cost = True):\n",
    "    \n",
    "    ops.reset_default_graph()                         # to be able to rerun the model without overwriting tf variables\n",
    "    tf.set_random_seed(1)                             # to keep results consistent (tensorflow seed)\n",
    "    seed = 3                                          # to keep results consistent (numpy seed)\n",
    "    (m, n_H0, n_W0, n_C0) = X_train.shape             \n",
    "    n_y = Y_train.shape[1]                            \n",
    "    costs = []                                        # To keep track of the cost\n",
    "    \n",
    "    # Create Placeholders of the correct shape\n",
    "    X, Y = create_placeholders(n_H0, n_W0, n_C0, n_y)\n",
    "\n",
    "    # Initialize parameters\n",
    "    parameters = initialize_parameters()\n",
    "    \n",
    "    # Forward propagation: Build the forward propagation in the tensorflow graph\n",
    "    Z3 = forward_propagation(X, parameters)\n",
    "    \n",
    "    # Cost function: Add cost function to tensorflow graph\n",
    "    cost = compute_cost(Z3, Y)\n",
    "    \n",
    "    # Backpropagation: Define the tensorflow optimizer. Use an AdamOptimizer that minimizes the cost.\n",
    "    optimizer = tf.train.AdamOptimizer(learning_rate=learning_rate).minimize(cost)\n",
    "    \n",
    "    # Initialize all the variables globally\n",
    "    init = tf.global_variables_initializer()\n",
    "     \n",
    "    saver = tf.train.Saver()\n",
    "    # Start the session to compute the tensorflow graph\n",
    "    with tf.Session() as sess:\n",
    "        \n",
    "        # Run the initialization\n",
    "        sess.run(init)\n",
    "        \n",
    "        # Do the training loop\n",
    "        for epoch in range(num_epochs):\n",
    "\n",
    "            minibatch_cost = 0.\n",
    "            num_minibatches = int(m / minibatch_size) # number of minibatches of size minibatch_size in the train set\n",
    "            seed = seed + 1\n",
    "            minibatches = random_mini_batches(X_train, Y_train, minibatch_size, seed)\n",
    "\n",
    "            for minibatch in minibatches:\n",
    "\n",
    "                # Select a minibatch\n",
    "                (minibatch_X, minibatch_Y) = minibatch\n",
    "                # IMPORTANT: The line that runs the graph on a minibatch.\n",
    "                # Run the session to execute the optimizer and the cost, the feedict should contain a minibatch for (X,Y).\n",
    "                _ , temp_cost = sess.run([optimizer, cost], feed_dict={X: minibatch_X, Y: minibatch_Y})\n",
    "                \n",
    "                minibatch_cost += temp_cost / num_minibatches\n",
    "                \n",
    "\n",
    "            # Print the cost every epoch\n",
    "            if print_cost == True and epoch % 5 == 0:\n",
    "                print (\"Cost after epoch %i: %f\" % (epoch, minibatch_cost))\n",
    "            if print_cost == True and epoch % 1 == 0:\n",
    "                costs.append(minibatch_cost)\n",
    "            # save parameters\n",
    "            if epoch == num_epochs-1:\n",
    "                saver.save(sess,'params.ckpt')\n",
    "        \n",
    "        \n",
    "        # plot the cost\n",
    "        plt.plot(np.squeeze(costs))\n",
    "        plt.ylabel('cost')\n",
    "        plt.xlabel('iterations (per tens)')\n",
    "        plt.title(\"Learning rate =\" + str(learning_rate))\n",
    "        plt.show()\n",
    "\n",
    "        # Calculate the correct predictions\n",
    "        predict_op = tf.argmax(Z3, 1)\n",
    "        correct_prediction = tf.equal(predict_op, tf.argmax(Y, 1))\n",
    "        \n",
    "        # Calculate accuracy on the test set\n",
    "        accuracy = tf.reduce_mean(tf.cast(correct_prediction, \"float\"))\n",
    "        print(accuracy)\n",
    "        train_accuracy = accuracy.eval({X: X_train, Y: Y_train})\n",
    "        test_accuracy = accuracy.eval({X: X_test, Y: Y_test})\n",
    "        print(\"Train Accuracy:\", train_accuracy)\n",
    "        print(\"Test Accuracy:\", test_accuracy)\n",
    "                \n",
    "        return train_accuracy, test_accuracy, parameters"
   ]
  },
  {
   "cell_type": "code",
   "execution_count": 55,
   "metadata": {},
   "outputs": [
    {
     "name": "stdout",
     "output_type": "stream",
     "text": [
      "Cost after epoch 0: 0.899989\n",
      "Cost after epoch 5: 0.145532\n",
      "Cost after epoch 10: 0.102076\n",
      "Cost after epoch 15: 0.108417\n",
      "Cost after epoch 20: 0.086520\n",
      "Cost after epoch 25: 0.090135\n"
     ]
    },
    {
     "data": {
      "image/png": "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\n",
      "text/plain": [
       "<Figure size 432x288 with 1 Axes>"
      ]
     },
     "metadata": {
      "needs_background": "light"
     },
     "output_type": "display_data"
    },
    {
     "name": "stdout",
     "output_type": "stream",
     "text": [
      "Tensor(\"Mean_1:0\", shape=(), dtype=float32)\n",
      "Train Accuracy: 0.979625\n",
      "Test Accuracy: 0.9265\n"
     ]
    }
   ],
   "source": [
    "_, _, parameters = model(X_train, Y_train, X_test, Y_test)"
   ]
  },
  {
   "cell_type": "markdown",
   "metadata": {},
   "source": [
    "采用minibatch技术，学习率设置为0.009，迭代30次。模型在训练集上达到了98.0%的准确率，在测试集上达到了92.7%的准确率。"
   ]
  },
  {
   "cell_type": "code",
   "execution_count": 56,
   "metadata": {},
   "outputs": [],
   "source": [
    "def model_50(X_train, Y_train, X_test, Y_test, learning_rate = 0.004,\n",
    "          num_epochs = 50, minibatch_size = 64, print_cost = True):\n",
    "    \n",
    "    ops.reset_default_graph()                         # to be able to rerun the model without overwriting tf variables\n",
    "    tf.set_random_seed(1)                             # to keep results consistent (tensorflow seed)\n",
    "    seed = 3                                          # to keep results consistent (numpy seed)\n",
    "    (m, n_H0, n_W0, n_C0) = X_train.shape             \n",
    "    n_y = Y_train.shape[1]                            \n",
    "    costs = []                                        # To keep track of the cost\n",
    "    \n",
    "    # Create Placeholders of the correct shape\n",
    "    X, Y = create_placeholders(n_H0, n_W0, n_C0, n_y)\n",
    "\n",
    "    # Initialize parameters\n",
    "    parameters = initialize_parameters()\n",
    "    \n",
    "    # Forward propagation: Build the forward propagation in the tensorflow graph\n",
    "    Z3 = forward_propagation(X, parameters)\n",
    "    \n",
    "    # Cost function: Add cost function to tensorflow graph\n",
    "    cost = compute_cost(Z3, Y)\n",
    "    \n",
    "    # Backpropagation: Define the tensorflow optimizer. Use an AdamOptimizer that minimizes the cost.\n",
    "    optimizer = tf.train.AdamOptimizer(learning_rate=learning_rate).minimize(cost)\n",
    "    \n",
    "    # Initialize all the variables globally\n",
    "    init = tf.global_variables_initializer()\n",
    "     \n",
    "    saver = tf.train.Saver()\n",
    "    # Start the session to compute the tensorflow graph\n",
    "    with tf.Session() as sess:\n",
    "        \n",
    "        # Run the initialization\n",
    "        sess.run(init)\n",
    "        \n",
    "        # Do the training loop\n",
    "        for epoch in range(num_epochs):\n",
    "\n",
    "            minibatch_cost = 0.\n",
    "            num_minibatches = int(m / minibatch_size) # number of minibatches of size minibatch_size in the train set\n",
    "            seed = seed + 1\n",
    "            minibatches = random_mini_batches(X_train, Y_train, minibatch_size, seed)\n",
    "\n",
    "            for minibatch in minibatches:\n",
    "\n",
    "                # Select a minibatch\n",
    "                (minibatch_X, minibatch_Y) = minibatch\n",
    "                # IMPORTANT: The line that runs the graph on a minibatch.\n",
    "                # Run the session to execute the optimizer and the cost, the feedict should contain a minibatch for (X,Y).\n",
    "                _ , temp_cost = sess.run([optimizer, cost], feed_dict={X: minibatch_X, Y: minibatch_Y})\n",
    "                \n",
    "                minibatch_cost += temp_cost / num_minibatches\n",
    "                \n",
    "\n",
    "            # Print the cost every epoch\n",
    "            if print_cost == True and epoch % 5 == 0:\n",
    "                print (\"Cost after epoch %i: %f\" % (epoch, minibatch_cost))\n",
    "            if print_cost == True and epoch % 1 == 0:\n",
    "                costs.append(minibatch_cost)\n",
    "            # save parameters\n",
    "            if epoch == num_epochs-1:\n",
    "                saver.save(sess,'params.ckpt')\n",
    "        \n",
    "        \n",
    "        # plot the cost\n",
    "        plt.plot(np.squeeze(costs))\n",
    "        plt.ylabel('cost')\n",
    "        plt.xlabel('iterations (per tens)')\n",
    "        plt.title(\"Learning rate =\" + str(learning_rate))\n",
    "        plt.show()\n",
    "\n",
    "        # Calculate the correct predictions\n",
    "        predict_op = tf.argmax(Z3, 1)\n",
    "        correct_prediction = tf.equal(predict_op, tf.argmax(Y, 1))\n",
    "        \n",
    "        # Calculate accuracy on the test set\n",
    "        accuracy = tf.reduce_mean(tf.cast(correct_prediction, \"float\"))\n",
    "        print(accuracy)\n",
    "        train_accuracy = accuracy.eval({X: X_train, Y: Y_train})\n",
    "        test_accuracy = accuracy.eval({X: X_test, Y: Y_test})\n",
    "        print(\"Train Accuracy:\", train_accuracy)\n",
    "        print(\"Test Accuracy:\", test_accuracy)\n",
    "                \n",
    "        return train_accuracy, test_accuracy, parameters"
   ]
  },
  {
   "cell_type": "code",
   "execution_count": 57,
   "metadata": {},
   "outputs": [
    {
     "name": "stdout",
     "output_type": "stream",
     "text": [
      "Cost after epoch 0: 1.286346\n",
      "Cost after epoch 5: 0.179940\n",
      "Cost after epoch 10: 0.128844\n",
      "Cost after epoch 15: 0.111735\n",
      "Cost after epoch 20: 0.095340\n",
      "Cost after epoch 25: 0.080090\n",
      "Cost after epoch 30: 0.070647\n",
      "Cost after epoch 35: 0.068672\n",
      "Cost after epoch 40: 0.057843\n",
      "Cost after epoch 45: 0.052401\n"
     ]
    },
    {
     "data": {
      "image/png": "iVBORw0KGgoAAAANSUhEUgAAAYIAAAEWCAYAAABrDZDcAAAAOXRFWHRTb2Z0d2FyZQBNYXRwbG90bGliIHZlcnNpb24zLjMuNCwgaHR0cHM6Ly9tYXRwbG90bGliLm9yZy8QVMy6AAAACXBIWXMAAAsTAAALEwEAmpwYAAAm6ElEQVR4nO3deXwdZ33v8c9XZ5GOFsuL5D2Ok9jZyVY30CaUBChxuDRhh7CUsqX0QjfobdMtLL3pi5a2tNxCuaGkAS5bWFICDYQtEJqQEDkhi+0EbCfxHsm7LVn77/4xI/lYlmzF0dGxNN/363VeOmdmzswz8vH56nmemedRRGBmZtlVU+0CmJlZdTkIzMwyzkFgZpZxDgIzs4xzEJiZZZyDwMws4xwENu1Ier6kx6tdDrOpwkFgE0rSk5JeXM0yRMRPIuKMapZhiKTLJG2epGO9SNJjkrok3Snp5KNsuzTdpit9z4tHrP9jSdsl7ZN0k6TaUfbxAkkh6X9X4nxs8jgIbMqRlKt2GQCUOCH+D0lqAb4O/DUwG2gDvnyUt3wReBCYA/wl8FVJrem+rgCuA14EnAycCnxwxPEKwL8A903oiVhVnBAfYpv+JNVIuk7Sekk7Jd0iaXbZ+q+kf4HulXSXpHPK1t0s6d8k3S6pE7g8rXn8iaSH0/d8WVJduv1hf4Ufbdt0/Z9K2iZpq6R3pH/lLhvjPH4k6QZJdwNdwKmS3ippraT9kjZI+t102wbg28BCSQfSx8Jj/S6O0yuB1RHxlYjoBj4AnC/pzFHO4XTgIuD9EXEwIr4GPAK8Kt3kLcCnI2J1ROwG/gb4nRG7eR/wXeCxZ1luOwE4CGyy/D7wcuAFwEJgN/DxsvXfBpYDc4EHgM+PeP8bgBuAJuC/02WvBVYCpwDnceSXVblRt5W0Engv8GJgGXDZOM7lzcC1aVmeAtqBlwEzgLcCH5V0UUR0AlcCWyOiMX1sHcfvYpikJZL2HOXxhnTTc4CHht6XHnt9unykc4ANEbG/bNlDZdsetq/0+TxJc9IynQy8DfjQMX9TNiXkq10Ay4x3Ae+JiM0Akj4AbJT05ojoj4ibhjZM1+2W1BwRe9PF34iIu9Pn3ZIAPpZ+sSLpm8AFRzn+WNu+FviPiFhdduw3HuNcbh7aPvVfZc9/LOm7wPNJAm00R/1dlG8YERuBmccoD0Aj0DFi2V6SsBpt272jbLtojPVDz5uAncDHgL+OiAPpv4NNca4R2GQ5Gbh16C9ZYC0wQPKXZk7Sh9Omkn3Ak+l7Wsrev2mUfW4ve95F8gU2lrG2XThi36MdZ6TDtpF0paR7Je1Kz+2lHF72kcb8XYzj2GM5QFIjKTcD2H8c245cP/R8v6TfApoi4mj9DzbFOAhssmwCroyImWWPuojYQtLsczVJ80wzsDR9T/mfm5UaJncbsLjs9UnjeM9wWdKrab4G/AMwLyJmArdzqOyjlftov4vDpE1DB47yGKq9rAbOL3tfA3Baunyk1SR9G+W1hfPLtj1sX+nzpyNiJ0kH8oq0P2c78DrgjyR9Y5Tj2BThILBKKEiqK3vkgU8CN6Tty0hqlXR1un0T0EPS7FAP/O0klvUW4K2SzpJUT3LVzTNRBGpJmmX6JV0JvKRs/dPAHEnNZcuO9rs4TERsLOtfGO0x1JdyK3CupFelHeHXAw9HxBGduRHxC+DnwPvTf59XkPSbfC3d5LPA2yWdLWkm8FfAzem6vwZOJ2lauwC4DfgUSd+ITVEOAquE24GDZY8PkFxqeBvwXUn7gXuB56bbf5ak03ULsCZdNyki4tskbd53AuvKjt0zzvfvB/6AJFB2k9Rubitb/xjJpZob0qaghRz9d3G859FBctXPDWk5ngu8fmi9pE9K+mTZW14PrEi3/TDw6nQfRMR3gL8n+Z1sJPm3ef/Q+UbE9qEHyb9vZ0Tsejblt+qSJ6YxO0TSWcCjQO3Ijluz6co1Ass8Sa+QVCtpFvB3wDcdApYlDgIz+F2SewHWk1y983vVLY7Z5HLTkJlZxrlGYGaWcVPuzuKWlpZYunRptYthZjalrFq1akdEtI62bsoFwdKlS2lra6t2MczMphRJT421zk1DZmYZ5yAwM8s4B4GZWcY5CMzMMs5BYGaWcQ4CM7OMcxCYmWVcZoLg8e37+Yc7HmfngXGNLmxmlhmZCYINHQf41zvX0b7fQWBmVi4zQVAq5gDo6vXowmZm5TITBPXFZDSNrt6BKpfEzOzEkqEgGKoROAjMzMplJgiGmoYOOgjMzA6TmSBwjcDMbHQZCoKhPgJ3FpuZlctQELhpyMxsNJkJgkKuhkJOdPU5CMzMymUmCABKhRxdPW4aMjMrl6kgqC/m3VlsZjZCxYJA0k2S2iU9Osb6N0p6WNIjku6RdH6lyjKkvphz05CZ2QiVrBHcDKw8yvongBdExHOAvwFurGBZgOReAncWm5kdLl+pHUfEXZKWHmX9PWUv7wUWV6osQ+qLOV8+amY2wonSR/B24NtjrZR0raQ2SW0dHR3HfZD6Yt41AjOzEaoeBJIuJwmCPxtrm4i4MSJWRMSK1tbW4z5WUiNwEJiZlatY09B4SDoP+HfgyojYWenjlRwEZmZHqFqNQNIS4OvAmyPiF5NxTPcRmJkdqWI1AklfBC4DWiRtBt4PFAAi4pPA9cAc4BOSAPojYkWlygO+j8DMbDSVvGrommOsfwfwjkodfzSlQo6e/kEGBoNcjSbz0GZmJ6yqdxZPpuGB53xTmZnZsEwGgfsJzMwOyVQQlNI5CXwvgZnZIZkKggbPUmZmdoRMBUHJQWBmdoRMBUG9m4bMzI6QsSBIagSd7iw2MxuWqSAoed5iM7MjZCoI6t1HYGZ2hGwFQSHpI/B9BGZmh2QqCNw0ZGZ2pEwFQTFfQyEnz1tsZlYmU0EAycBzrhGYmR2SuSBIhqJ2H4GZ2ZAMBkGOTtcIzMyGZS4ISkU3DZmZlctcEHi6SjOzw2UuCErFvGsEZmZlMhcE9YWc7yw2MyuTvSCodRCYmZXLXhAUc56z2MysTAaDwPcRmJmVy1wQlAo5uvsGGRiMahfFzOyEULEgkHSTpHZJj46xXpI+JmmdpIclXVSpspQbGorazUNmZolK1ghuBlYeZf2VwPL0cS3wbxUsy7BDcxK4ecjMDCoYBBFxF7DrKJtcDXw2EvcCMyUtqFR5hpQ8b7GZ2WGq2UewCNhU9npzuuwIkq6V1CapraOj41kd1LOUmZkdbkp0FkfEjRGxIiJWtLa2Pqt9lRwEZmaHqWYQbAFOKnu9OF1WUQ1uGjIzO0w1g+A24LfTq4eeB+yNiG2VPqg7i83MDpev1I4lfRG4DGiRtBl4P1AAiIhPArcDLwXWAV3AWytVlnIlXz5qZnaYigVBRFxzjPUBvLtSxx/LUI2gs8dBYGYGU6SzeCLVF5Lsc9OQmVkic0Ew3DTkzmIzMyCDQVDM15CvEV3uIzAzAzIYBOB5i83MymUyCBo8FLWZ2bBMBkEygb1rBGZmkNEgcNOQmdkhmQyC+mKOTjcNmZkBGQ2CUjHvGoGZWSqTQVBfcB+BmdmQbAaBO4vNzIZlMghKxZwHnTMzS2UyCJIagTuLzcwgs0GQp7tvkMHBqHZRzMyqLqNB4DkJzMyGZDoIfC+BmVlGg6DkeYvNzIZlMggOzVvsIDAzy2QQlBwEZmbDMhkE9QXPUmZmNiSbQVD0vMVmZkOyGQS1vnzUzGxINoPAfQRmZsMqGgSSVkp6XNI6SdeNsn6JpDslPSjpYUkvrWR5htQXhpqGHARmZhULAkk54OPAlcDZwDWSzh6x2V8Bt0TEhcDrgU9Uqjzlhq8a6nEfgZlZJWsEFwPrImJDRPQCXwKuHrFNADPS583A1gqWZ1gxX0O+RnS5j8DMrKJBsAjYVPZ6c7qs3AeAN0naDNwO/P5oO5J0raQ2SW0dHR0TUjjPW2xmlqh2Z/E1wM0RsRh4KfA5SUeUKSJujIgVEbGitbV1Qg7soajNzBKVDIItwEllrxeny8q9HbgFICJ+CtQBLRUs07D6Yt6dxWZmVDYI7geWSzpFUpGkM/i2EdtsBF4EIOkskiCYmLafY6h305CZGVDBIIiIfuA9wB3AWpKrg1ZL+pCkq9LN3ge8U9JDwBeB34mISZktxvMWm5kl8pXceUTcTtIJXL7s+rLna4BLKlmGsZSKefYe7KvGoc3MTijV7iyumvpCzvcRmJmR5SBw05CZGZDhICgVcx50zsyMDAeB7yMwM0tkNghKxTzdfYMMDk7KRUpmZieszAbB0FDUbh4ys6zLbBA0eE4CMzNgnEEg6TXjWTaVlNLpKn13sZll3XhrBH8+zmVTxvAsZX3uMDazbDvqncWSriQZFXSRpI+VrZoBTOlv0KHJaTp7XCMws2w71hATW4E24CpgVdny/cAfV6pQk6G+kHYWu2nIzDLuqEEQEQ8BD0n6QkT0AUiaBZwUEbsno4CVUl8cmrd4SldszMyetfH2EXxP0gxJs4EHgE9J+mgFy1VxJV8+amYGjD8ImiNiH/BK4LMR8VzSeQSmqnpfPmpmBow/CPKSFgCvBb5VwfJMmobhpiEHgZll23iD4EMkE8ysj4j7JZ0K/LJyxaq84aYh9xGYWcaNa2KaiPgK8JWy1xuAV1WqUJOhmK8hXyPXCMws88Z7Z/FiSbdKak8fX5O0uNKFq7SS5yQwMxt309B/kEw8vzB9fDNdNqV5KGozs/EHQWtE/EdE9KePm4HWCpZrUtQX864RmFnmjTcIdkp6k6Rc+ngTsLOSBZsMpULOdxabWeaNNwjeRnLp6HZgG/Bq4HcqVKZJ43mLzczGedUQyeWjbxkaViK9w/gfSAJiyioVc+zrdh+BmWXbeGsE55WPLRQRu4ALj/UmSSslPS5pnaTrxtjmtZLWSFot6QvjLM+EaCjmfR+BmWXeeGsENZJmjagRHGsI6xzwceA3gc3A/ZJui4g1ZdssJ5nX4JKI2C1p7vGcxPFy05CZ2fiD4B+Bn0oauqnsNcANx3jPxcC69OYzJH0JuBpYU7bNO4GPDwVMRLSPt+ATwfcRmJmNs2koIj5LMuDc0+njlRHxuWO8bRGwqez15nRZudOB0yXdLeleSStH25GkayW1SWrr6OgYT5HHxfcRmJmNv0ZA2qSz5pgbPvPjLwcuAxYDd0l6TkTsGXHsG4EbAVasWBETdfBSMU933yCDg0FNjSZqt2ZmU8p4O4uPxxbgpLLXi9Nl5TYDt0VEX0Q8AfyCJBgmRb3nJDAzq2gQ3A8sl3SKpCLwepJhKsr9J0ltAEktJE1FGypYpsN4TgIzswoGQUT0A+8hGb56LXBLRKyW9CFJV6Wb3UFy1/Ia4E7gf0XEpN2xXPK8xWZm4+8jOB4RcTtw+4hl15c9D+C96WPSNdSmk9P0ucPYzLKrkk1DJ7ySm4bMzLIdBPVuGjIzy3gQpPMWd/a4acjMsivTQVDy5aNmZtkOAl8+ambmIAAcBGaWbZkOguGmIY83ZGYZlukgKOZqyNfINQIzy7RMB4EkD0VtZpmX6SCApJ/A9xGYWZY5CIp5Ot1HYGYZlvkgKBVcIzCzbMt8EHjeYjPLuswHQamYo8t3FptZhmU+CJLOYvcRmFl2OQiKeTcNmVmmOQh8+aiZZZyDwJ3FZpZxmQ+CUjHPwb4BBgej2kUxM6uKzAdBveckMLOMcxB4KGozy7jMB0HJ8xabWcZlPgiG5i3u6vO9BGaWTRUNAkkrJT0uaZ2k646y3askhaQVlSzPaNw0ZGZZV7EgkJQDPg5cCZwNXCPp7FG2awL+ELivUmU5muHOYgeBmWVUJWsEFwPrImJDRPQCXwKuHmW7vwH+DuiuYFnGNNw05CAws4yqZBAsAjaVvd6cLhsm6SLgpIj4r6PtSNK1ktoktXV0dExoIUvDTUPuIzCzbKpaZ7GkGuCfgPcda9uIuDEiVkTEitbW1gktR2tjLTWC9e0HJnS/ZmZTRSWDYAtwUtnrxemyIU3AucCPJD0JPA+4bbI7jJvrC/zq0tncsfrpyTysmdkJo5JBcD+wXNIpkorA64HbhlZGxN6IaImIpRGxFLgXuCoi2ipYplFdcc58Hn96Pxs6XCsws+ypWBBERD/wHuAOYC1wS0SslvQhSVdV6rjH44pz5wO4VmBmmZSv5M4j4nbg9hHLrh9j28sqWZajWTSzxHMWNXPH6u383mWnVasYZmZVkfk7i4esPHc+P9+0h+17q3IVq5lZ1TgIUleckzQPfXfN9iqXxMxscjkIUsvmNnJaawPfedRBYGbZ4iAos/Lc+dz3xC52d/ZWuyhmZpPGQVDminPmMzAYfH+trx4ys+xwEJR5zqJmFjbXccdqNw+ZWXY4CMpI4opz53PXL3fQ2eOxh8wsGxwEI1xxznx6+wf50eMTO7idmdmJykEwwq8unc2chqKbh8wsMxwEI+RqxIvPmscPH2unp99zFJjZ9OcgGMXKc+dzoKefe9bvrHZRzMwqzkEwil9fNofG2jx3+OYyM8sAB8EoavM5Lj9zLt9b8zQDg1Ht4piZVZSDYAwrz5nPzs5e2p7cVe2imJlVlINgDJed0UoxX8OnfrLBtQIzm9YcBGNoqM3zp1ecwffXtnP9Nx4lwmFgZtNTRSemmere8fxT2XGgl0/+eD1zGoq89yVnVLtIZmYTzkFwDH+28gx2d/bysR+uY1ZDkbdeckq1i2RmNqEcBMcgiRtecS67u3r54DfXMLuhyNUXLKp2sczMJoz7CMYhn6vhY9dcyPNOnc37bnmIOx9vr3aRzMwmjINgnOoKOT712ys4Y34Tv/f/VrHqKV9WambTg4PgGWiqK/CZt13MguYSb/70z/j+Gk9gY2ZTn4PgGWpprOXL1z6PZXMbeefn2vjUXRt8aamZTWkVDQJJKyU9LmmdpOtGWf9eSWskPSzpB5JOrmR5JsrcGXV8+dpf48pz53PD7Wv5868/Qm//YLWLZWZ2XCoWBJJywMeBK4GzgWsknT1isweBFRFxHvBV4O8rVZ6JVirm+NdrLuL3X7iML92/ibfc9DP2dHnSezObeipZI7gYWBcRGyKiF/gScHX5BhFxZ0R0pS/vBRZXsDwTrqZGvO8lZ/BPrz2fVU/t5hWfuIcNHQeqXSwzs2ekkkGwCNhU9npzumwsbwe+PdoKSddKapPU1tFx4k0h+cqLFvOFdz6XvQf7eNn/+W8++M3VbNrVdew3mpmdAE6IzmJJbwJWAB8ZbX1E3BgRKyJiRWtr6+QWbpxWLJ3NN959CVecM5/P/fQpXvCRO/mfn1/Fqqd2V7toZmZHVck7i7cAJ5W9XpwuO4ykFwN/CbwgInoqWJ6KO2l2PR993QX82cozufmeJ/nCfU9x+yPbuXDJTN5x6an85tnzKOZPiOw1MxumSl36KCkP/AJ4EUkA3A+8ISJWl21zIUkn8cqI+OV49rtixYpoa2urQIknXmdPP19dtZlP//cTbNzVxaz6Ai87byEvv3ARFy2ZiaRqF9HMMkLSqohYMeq6Sl4DL+mlwD8DOeCmiLhB0oeAtoi4TdL3gecA29K3bIyIq462z6kUBEMGBoO7ftHBrQ9u4btrttPdN8jJc+p5+QWLePmFizilpaHaRTSzaa5qQVAJUzEIyu3v7uOO1U9z64ObuWf9TiLgkmVzeOfzT+UFp7e6lmBmFeEgOEFt39vN1x7YzGd/+iRP7+vh9HmNvOPSU7n6woXU5nPVLp6ZTSMOghNcb/8g33xoK5/6yQYe276flsZa3vJrJ3Plc+azeFY9dQWHgpk9Ow6CKSIiuHvdTj71kw38+BeH7pdoaazlpNklFs+qZ/GsEqe1NnLhkpmc2tLgpiQzG5ejBYEnpjmBSOLS5S1curyFde0HWL11L5t2dbFp10E27+nioU17+PYj2+gfTMK7uVTgwiUzuWjJLC5aMovzTmpmRl2hymdhZlONg+AEtWxuI8vmNh6xfGAw2NBxgAc27uaBp/bwwMbd/OjxQ7WH+TPqht97WmsDp6XP5zbVTWbxzWwKcRBMMbkasXxeE8vnNfG6X10CwN6DfTy0aQ+PbNnL+vYDrO84wFfaNtHZOzD8vgXNdVy0ZBYXLpnJhUtmce6iGWN2SPf0D1CoqaGmxs1OZlngIJgGmksFfuP0Vn7j9EPDb0QET+/rYV37AR5/ej8/37SHB57azX89ktyyUczVcPbCGdTmazjQ0588uvvZ39NPb/8gsxuK/MbyFi4/cy7PX97K7IZitU7PzCrMQTBNSWJ+cx3zm+u4dHnL8PL2fd08sHE3D27cw0Ob9zAYSXNSY12exto8TXUFGmtzrO/o5Me/6OA/f74VCc5fPJPLz5jLxafMZvGsEvNm1I05XEZEsONAL1v2HGTH/h4uOnmWg8TsBOarhmxMg4PBw1v28qPH2/nR4x08tHkPQx8XKbmaaUFzHQua62guFdi+r4fNu7vYuucg3X2HJurJ14jLz5zLqy5axOVnzvU9EmZV4MtHbULs6uzl0S172b63m617D7JtTzfb9nWzbc9B9hzsY0FzHYtmllg8q5T+rKepLs8PHmvn1ge30LG/h+ZSgZedt4BXXrSIeTPq2N3Zx66uXnZ19rCrs4/dnb3kc2LJ7PrkMaee1sZaXyZr9iw5CKzq+gcGuXv9Tr7+wGbuWL39sBpDuRpBAOUfy7pCDUtm19PSWEtv/yDd/QN09w3Sk/7sHxikmK+hrpCjLp+jtlBDXT5HqZjjlJYGzl4wg7MWzGD5vEbfnGeZ5fsIrOryuRpecHorLzi9lf3dffxgbTs9/QPMbqhldkOBWfVFZjcUmVFXoHdgkC17DrJxVxebdnWxcWcXG3d1sauzl9pCDTNKBerSL/vaQg35mhp6+w8FQxIUA+zq7OX+J3fRlV49lasRp7U2cNaCGcyqT/osIuKw4Cnma5hZKjCzocjMUlKumfUF5jbV0trkmolNTw4Cm3RNdQVefuHYk9XV1eQ4rbWR01qPvI/imRocDJ7a1cXabftYu20fa7buo+3J3ezv7gOSTnUJlD7v7hsYDo6RZtUXOHN+Urs4a0ETZy2YwbK5jQwMBl29AxzsHaCrr5/OniSIevoH6O0P+gYGhx+9A0FDMce8GXXMm1HL3Bl1NNXmHTBWVQ4Cm9ZqasQpLQ2c0tLAS5+zYFzv6ekfYG9XH7u7+tjT1cvurj627z3IY9v3s3bbPr7ws6fGbNo6HqVCjnkzammsy9PbP3joMTBIT/8gETCzvsDshqTWNLu+yKz0edJZX2LhzOQKsdE64vsHBtl7sI+9B/toLhWY01g7YWW36cFBYDZCbT7H3Bk55s4Y/W7sgcHgyZ2drN22jyc6Oinka6gv5qgv5qkvJn0T9YUctYUchZyozddQyCWPfE509gzw9L7uskcPT+/rprOnn2K+hmI+R22+Jnmeq0GCPV197OrsZVdnL+vaD7Crs3fUmsvQlVwDgzH85X+gp/+wbU6eU8+FJ83kopOToUnOnN9EPlfD7s5eVm/dx+qte1m9dR+Pbt3LEzs6Ga0bsUYws77InIYiLY21tDTV0tKYPF86p4EzFzSxdE4DuWdwU2L/wCCPbNnLPet3cve6Hazeum+4WW5uUx2tTbXDNanzT/JYWxPJncVmU9TB3gG27T3Itr3dbN2T/Ny29yBb93RTyIkZpQIzS0WaSwVm1heYUcrTvq8nGZ5k4x469iczw5YKOWbWF9i2t3t43wub6zh7YTPL5zVSyB15v8jgYLC7q5cdB3rYcaCXnenP8tCpK9RwxrykCe3M+U3Mby4BQcThFwS07+/m7nU7uW/DTvan7z9zfhMXLpnJgZ4B2vd107G/h/b9PYftf/6MOi5Z1sIly+ZwybIW5o0I7t7+QXZ1JmXclwZiV+8Anb39dPYkTXgBnDy7nlNbGzi1pZHm+okdqysiOd8T4S59XzVkZoeJCDbvPsiD6R3nu7t6OWvBDM5ZOINzFjYf9w2AXb39bOhIaktDTWlrt+1jd1ffUd+3ZHY9v37aHH59WQu/ftocWsZovurq7WfrnoP87Ind3L1uB/es3zG872VzG5lZKrCzMwmmfd39o+6jXI1gsOwrcE5DkVNaGlja0kBzqUBDbZ6m2jwNtXkaanM01eVpLhVoLiUXEcwsFcinQTk4GDyxszOpVW3ZO1y76uwZYGlLfTr+V/JYNreR+c117OrspT2tEbbv76F9fzc7DvTS1dNPd3/S79TdN0h3X9Lv9Mbnncy7L182zn+NwzkIzKxqIoL2/T3sONCDSDvnBSL5K7mpLs/CmaXj2vfgYLBm2z7uWb+De9bvpKdvkNmNRVoaisxprGVOY9J81Vwq0ph+mTekX+z1hRwDEWzc1cUTHZ1s2HGAJ3Z0sr6jk407u9jX3TfmhQPlmmrzNNcXDmuuK+ZqOH1+I+cubKa5VGB9RycbOg7w1K4uBgbH/s5trM3T2lSbNDEWcskl0YVccpVcIceLzpzLlePs6xrJQWBmdhySK8KSsbg6e/rZ390/3Peypyt9HOxlT1fSEX/2whmcu7CZZXMbRx2Cpad/gI07u1jXfoCn93Uzp7E26QOZUcfcploaaivXbev7CMzMjkOuRjTVFWiaoHk+avO54dGDTySjjxpmZmaZ4SAwM8s4B4GZWcZVNAgkrZT0uKR1kq4bZX2tpC+n6++TtLSS5TEzsyNVLAgk5YCPA1cCZwPXSDp7xGZvB3ZHxDLgo8DfVao8ZmY2ukrWCC4G1kXEhojoBb4EXD1im6uBz6TPvwq8SL5n3MxsUlUyCBYBm8peb06XjbpNRPQDe4E5I3ck6VpJbZLaOjo6KlRcM7NsmhKdxRFxY0SsiIgVra2tx36DmZmNWyVvKNsCnFT2enG6bLRtNkvKA83AzqPtdNWqVTskPXWcZWoBdhzne6e6rJ67zztbfN5jO3msFZUMgvuB5ZJOIfnCfz3whhHb3Aa8Bfgp8Grgh3GMMS8i4rirBJLaxrrFerrL6rn7vLPF5318KhYEEdEv6T3AHUAOuCkiVkv6ENAWEbcBnwY+J2kdsIskLMzMbBJVdKyhiLgduH3EsuvLnncDr6lkGczM7OimRGfxBLqx2gWooqyeu887W3zex2HKDUNtZmYTK2s1AjMzG8FBYGaWcZkJgmMNgDddSLpJUrukR8uWzZb0PUm/TH/OqmYZK0HSSZLulLRG0mpJf5gun9bnLqlO0s8kPZSe9wfT5aekAzmuSwd2PL5JiE9wknKSHpT0rfT1tD9vSU9KekTSzyW1pcue1ec8E0EwzgHwpoubgZUjll0H/CAilgM/SF9PN/3A+yLibOB5wLvTf+Ppfu49wAsj4nzgAmClpOeRDOD40XRAx90kAzxOR38IrC17nZXzvjwiLii7d+BZfc4zEQSMbwC8aSEi7iK5J6Nc+eB+nwFePpllmgwRsS0iHkif7yf5cljEND/3SBxIXxbSRwAvJBnIEabheQNIWgz8D+Df09ciA+c9hmf1Oc9KEIxnALzpbF5EbEufbwfmVbMwlZbOa3EhcB8ZOPe0eeTnQDvwPWA9sCcdyBGm7+f9n4E/BQbT13PIxnkH8F1JqyRdmy57Vp9zT16fMRERkqbtNcOSGoGvAX8UEfvKRzWfruceEQPABZJmArcCZ1a3RJUn6WVAe0SsknRZlYsz2S6NiC2S5gLfk/RY+crj+ZxnpUYwngHwprOnJS0ASH+2V7k8FSGpQBICn4+Ir6eLM3HuABGxB7gT+DVgZjqQI0zPz/slwFWSniRp6n0h8C9M//MmIrakP9tJgv9inuXnPCtBMDwAXnoVwetJBrzLiqHB/Uh/fqOKZamItH3408DaiPinslXT+twltaY1ASSVgN8k6R+5k2QgR5iG5x0Rfx4RiyNiKcn/5x9GxBuZ5uctqUFS09Bz4CXAozzLz3lm7iyW9FKSNsWhAfBuqG6JKkPSF4HLSIalfRp4P/CfwC3AEuAp4LURMbJDeUqTdCnwE+ARDrUZ/wVJP8G0PXdJ55F0DuZI/rC7JSI+JOlUkr+UZwMPAm+KiJ7qlbRy0qahP4mIl033807P79b0ZR74QkTcIGkOz+JznpkgMDOz0WWlacjMzMbgIDAzyzgHgZlZxjkIzMwyzkFgZpZxDgI7YUi6J/25VNIbJnjffzHasSpF0sslXX/sLY9r339x7K2e8T6fI+nmid6vTQ2+fNROOOXXhT+D9+TLxpgZbf2BiGicgOKNtzz3AFdFxI5nuZ8jzqtS5yLp+8DbImLjRO/bTmyuEdgJQ9LQKJofBp6fjrf+x+mgah+RdL+khyX9brr9ZZJ+Iuk2YE267D/TwbhWDw3IJenDQCnd3+fLj6XERyQ9mo7x/rqyff9I0lclPSbp8+ndy0j6sJJ5Dx6W9A+jnMfpQM9QCEi6WdInJbVJ+kU6Ts7QYHHjOq+yfY92Lm9SMifBzyX9XyXDriPpgKQblMxVcK+keeny16Tn+5Cku8p2/02Su3QtayLCDz9OiAdwIP15GfCtsuXXAn+VPq8F2oBT0u06gVPKtp2d/iyR3Ho/p3zfoxzrVSQjduZIRmzcCCxI972XZLyaGuCnwKUkI1w+zqHa9MxRzuOtwD+Wvb4Z+E66n+Uko2LWPZPzGq3s6fOzSL7AC+nrTwC/nT4P4LfS539fdqxHgEUjy08yfs83q/058GPyHx591KaClwDnSRoaQ6aZ5Au1F/hZRDxRtu0fSHpF+vykdLudR9n3pcAXIxnB82lJPwZ+FdiX7nszgJJhnpcC9wLdwKeVzIr1rVH2uQDoGLHslogYBH4paQPJCKHP5LzG8iLgV4D70wpLiUMDjvWWlW8VyThEAHcDN0u6Bfj6oV3RDiwcxzFtmnEQ2FQg4Pcj4o7DFiZ9CZ0jXr8Y+LWI6JL0I5K/vI9X+Rg1A0A+IvolXUzyBfxq4D0kI1+WO0jypV5uZGdcMM7zOgYBn4mIPx9lXV9EDB13gPT/e0S8S9JzSSZ1WSXpVyJiJ8nv6uA4j2vTiPsI7ES0H2gqe30H8HtKhplG0unpyIsjNQO70xA4k2TKyiF9Q+8f4SfA69L2+lbgN4CfjVUwJfMdNEfE7cAfA+ePstlaYNmIZa+RVCPpNOBUkual8Z7XSOXn8gPg1UrGph+au/bko71Z0mkRcV9EXE9Scxkaov10kuY0yxjXCOxE9DAwIOkhkvb1fyFplnkg7bDtYPSp+L4DvEvSWpIv2nvL1t0IPCzpgUiGKx5yK8n4/Q+R/JX+pxGxPQ2S0TQB35BUR/LX+HtH2eYu4B8lqewv8o0kATMDeFdEdEv693Ge10iHnYukvyKZsaoG6APeTTIC5Vg+Iml5Wv4fpOcOcDnwX+M4vk0zvnzUrAIk/QtJx+v3lVyf/62I+Oox3lY1kmqBH5PMfjXmZbg2PblpyKwy/haor3YhnoElwHUOgWxyjcDMLONcIzAzyzgHgZlZxjkIzMwyzkFgZpZxDgIzs4z7/+OJEhVook4HAAAAAElFTkSuQmCC\n",
      "text/plain": [
       "<Figure size 432x288 with 1 Axes>"
      ]
     },
     "metadata": {
      "needs_background": "light"
     },
     "output_type": "display_data"
    },
    {
     "name": "stdout",
     "output_type": "stream",
     "text": [
      "Tensor(\"Mean_1:0\", shape=(), dtype=float32)\n",
      "Train Accuracy: 0.977875\n",
      "Test Accuracy: 0.9155\n"
     ]
    }
   ],
   "source": [
    "_, _, parameters = model_50(X_train, Y_train, X_test, Y_test)"
   ]
  },
  {
   "cell_type": "markdown",
   "metadata": {},
   "source": [
    "将学习率调小为0.004,迭代50次。模型在训练集上准确率97.8%，在测试集上准确率91.6%。存在一定程度的过拟合"
   ]
  },
  {
   "cell_type": "markdown",
   "metadata": {},
   "source": [
    "### 2.6 建立完整CNN模型2\n",
    "尝试建立一个更深的CNN模型：以下CNN模型中包含三个卷积层（卷积+池化）以及一个全连接层，网络结构为：\n",
    "\n",
    "CONV2D->ReLU->MAXPOOL->CONV2D->ReLU->MAXPOOL->CONV2D->ReLU->MAXPOOL->FLATTEN->FULLYCONNECTED\n",
    "\n",
    "* 输入层规模：$64\\times 64\\times 3$\n",
    "* 第一卷积层\n",
    "    * 卷积核：$8\\times 8\\times 3\\times 8$；步长：1，padding=\"SAME\"\n",
    "    * 池化层：$4\\times 4$；步长：4，padding=\"SAME\"\n",
    "* 第二卷积层\n",
    "    * 卷积核：$4\\times 4\\times 8\\times 12$；步长：1，padding=\"SAME\"\n",
    "    * 池化层：$4\\times 4$；步长：4，padding=\"SAME\"\n",
    "* 第三卷积层\n",
    "    * 卷积核：$2\\times 2\\times 12\\times 16$；步长：1，padding=\"SAME\"\n",
    "    * 池化层：$2\\times 2$；步长：2，padding=\"SAME\"\n",
    "* 全连接层：$64\\times 11$"
   ]
  },
  {
   "cell_type": "code",
   "execution_count": 58,
   "metadata": {},
   "outputs": [],
   "source": [
    "# GRADED FUNCTION: Initialize_parameters\n",
    "\n",
    "def Initialize_parameters():\n",
    "    \n",
    "    tf.set_random_seed(1)                              \n",
    "        \n",
    "    W1 = tf.get_variable(\"W1\",  [8, 8, 3, 8], initializer=tf.contrib.layers.xavier_initializer(seed=0))\n",
    "    W2 = tf.get_variable(\"W2\",  [4, 4, 8, 12], initializer=tf.contrib.layers.xavier_initializer(seed=0))\n",
    "    W3 = tf.get_variable(\"W3\",  [2, 2, 12, 16], initializer=tf.contrib.layers.xavier_initializer(seed=0))\n",
    "    W4 = tf.get_variable(\"W4\",  [64, 11], initializer=tf.contrib.layers.xavier_initializer(seed=0))\n",
    "\n",
    "    parameters = {\"W1\": W1,\n",
    "                  \"W2\": W2,\n",
    "                  \"W3\": W3,\n",
    "                  \"W4\": W4}\n",
    "    \n",
    "    return parameters"
   ]
  },
  {
   "cell_type": "code",
   "execution_count": 59,
   "metadata": {},
   "outputs": [
    {
     "name": "stdout",
     "output_type": "stream",
     "text": [
      "W1 = [-0.05841496  0.06292645 -0.08245742  0.05890047 -0.03079589 -0.04952407\n",
      " -0.08426063  0.03779819]\n",
      "W2 = [-0.11307774 -0.07157539 -0.10457488 -0.0044352   0.07113913 -0.01175301\n",
      " -0.13303153 -0.07384229 -0.03505206  0.05738804  0.12308913 -0.08606026]\n",
      "W3 = [ 0.1415219   0.09843239 -0.03530069 -0.2141928   0.09600255 -0.17661095\n",
      " -0.21082442 -0.203088   -0.07636988  0.12120962 -0.04463415 -0.00839138\n",
      "  0.0285117  -0.11784953  0.16653964  0.10419118]\n",
      "W4 = 0.22897467\n"
     ]
    }
   ],
   "source": [
    "tf.reset_default_graph()\n",
    "with tf.Session() as sess_test:\n",
    "    parameters = Initialize_parameters()\n",
    "    init = tf.global_variables_initializer()\n",
    "    sess_test.run(init)\n",
    "    print(\"W1 = \" + str(parameters[\"W1\"].eval()[1,1,1]))\n",
    "    print(\"W2 = \" + str(parameters[\"W2\"].eval()[1,1,1]))\n",
    "    print(\"W3 = \" + str(parameters[\"W3\"].eval()[1,1,1]))\n",
    "    print(\"W4 = \" + str(parameters[\"W4\"].eval()[1,1]))"
   ]
  },
  {
   "cell_type": "code",
   "execution_count": 60,
   "metadata": {},
   "outputs": [],
   "source": [
    "# GRADED FUNCTION: Forward_propagation\n",
    "\n",
    "def Forward_propagation(X, parameters):\n",
    "    \n",
    "    # Retrieve the parameters from the dictionary \"parameters\" \n",
    "    W1 = parameters['W1']\n",
    "    W2 = parameters['W2']\n",
    "    W3 = parameters['W3']\n",
    "    W4 = parameters['W4']\n",
    "    \n",
    "    # CONV2D: stride of 1, padding 'SAME'\n",
    "    Z1 = tf.nn.conv2d(X, W1, strides=[1,1,1,1], padding=\"SAME\")\n",
    "    # RELU\n",
    "    A1 = tf.nn.relu(Z1)\n",
    "    # MAXPOOL: window 4*4, stride 4, padding 'SAME'\n",
    "    P1 = tf.nn.max_pool(A1, ksize=[1,4,4,1], strides=[1,4,4,1], padding=\"SAME\")\n",
    "    # CONV2D: stride of 1, padding 'SAME'\n",
    "    Z2 = tf.nn.conv2d(P1, W2, strides=[1,1,1,1], padding=\"SAME\")\n",
    "    # RELU\n",
    "    A2 = tf.nn.relu(Z2)\n",
    "    # MAXPOOL: window 4*4, stride 4, padding 'SAME'\n",
    "    P2 = tf.nn.max_pool(A2, ksize=[1,4,4,1], strides=[1,4,4,1], padding=\"SAME\")\n",
    "    # CONV2D: stride of 1, padding 'SAME'\n",
    "    Z3 = tf.nn.conv2d(P2, W3, strides=[1,1,1,1], padding=\"SAME\")\n",
    "    # RELU\n",
    "    A3 = tf.nn.relu(Z3)\n",
    "    # MAXPOOL: window 2*2, stride 2, padding 'SAME'\n",
    "    P3 = tf.nn.max_pool(A3, ksize=[1,2,2,1], strides=[1,2,2,1], padding=\"SAME\")\n",
    "    # FLATTEN\n",
    "    P3 = tf.contrib.layers.flatten(P3)\n",
    "    # FULLY-CONNECTED without non-linear activation function\n",
    "    Z4 = tf.matmul(P3,W4)\n",
    "\n",
    "    return Z4"
   ]
  },
  {
   "cell_type": "code",
   "execution_count": 61,
   "metadata": {},
   "outputs": [
    {
     "name": "stdout",
     "output_type": "stream",
     "text": [
      "Z4 = [[ 0.5186016  -1.06283    -0.7188915   0.11408114 -0.3709155   0.01465106\n",
      "  -1.0438464   0.52188534  0.4147094  -1.5088104   0.17456159]\n",
      " [ 0.5464322  -1.1216846  -0.56089574  0.34022647 -0.30260164 -0.04902393\n",
      "  -1.2092583   0.59020907  0.53213006 -1.7557085   0.22684707]]\n"
     ]
    }
   ],
   "source": [
    "tf.reset_default_graph()\n",
    "\n",
    "with tf.Session() as sess:\n",
    "    np.random.seed(1)\n",
    "    X, Y = create_placeholders(64, 64, 3, 11)\n",
    "    parameters = Initialize_parameters()\n",
    "    Z4 = Forward_propagation(X, parameters)\n",
    "    init = tf.global_variables_initializer()\n",
    "    sess.run(init)\n",
    "    a = sess.run(Z4, {X: np.random.randn(2,64,64,3), Y: np.random.randn(2,11)})\n",
    "    print(\"Z4 = \" + str(a))"
   ]
  },
  {
   "cell_type": "code",
   "execution_count": 64,
   "metadata": {},
   "outputs": [],
   "source": [
    "# GRADED FUNCTION: model\n",
    "\n",
    "def Model(X_train, Y_train, X_test, Y_test, learning_rate = 0.009,\n",
    "          num_epochs = 30, minibatch_size = 64, print_cost = True):\n",
    "    \n",
    "    ops.reset_default_graph()                         # to be able to rerun the model without overwriting tf variables\n",
    "    tf.set_random_seed(1)                             # to keep results consistent (tensorflow seed)\n",
    "    seed = 3                                          # to keep results consistent (numpy seed)\n",
    "    (m, n_H0, n_W0, n_C0) = X_train.shape             \n",
    "    n_y = Y_train.shape[1]                            \n",
    "    costs = []                                        # To keep track of the cost\n",
    "    \n",
    "    # Create Placeholders of the correct shape\n",
    "    X, Y = create_placeholders(n_H0, n_W0, n_C0, n_y)\n",
    "\n",
    "    # Initialize parameters\n",
    "    parameters = Initialize_parameters()\n",
    "    \n",
    "    # Forward propagation: Build the forward propagation in the tensorflow graph\n",
    "    Z2 = Forward_propagation(X, parameters)\n",
    "    \n",
    "    # Cost function: Add cost function to tensorflow graph\n",
    "    cost = compute_cost(Z2, Y)\n",
    "    \n",
    "    # Backpropagation: Define the tensorflow optimizer. Use an AdamOptimizer that minimizes the cost.\n",
    "    optimizer = tf.train.AdamOptimizer(learning_rate=learning_rate).minimize(cost)\n",
    "    \n",
    "    # Initialize all the variables globally\n",
    "    init = tf.global_variables_initializer()\n",
    "     \n",
    "    saver = tf.train.Saver()\n",
    "    # Start the session to compute the tensorflow graph\n",
    "    with tf.Session() as sess:\n",
    "        \n",
    "        # Run the initialization\n",
    "        sess.run(init)\n",
    "        \n",
    "        # Do the training loop\n",
    "        for epoch in range(num_epochs):\n",
    "\n",
    "            minibatch_cost = 0.\n",
    "            num_minibatches = int(m / minibatch_size) # number of minibatches of size minibatch_size in the train set\n",
    "            seed = seed + 1\n",
    "            minibatches = random_mini_batches(X_train, Y_train, minibatch_size, seed)\n",
    "\n",
    "            for minibatch in minibatches:\n",
    "\n",
    "                # Select a minibatch\n",
    "                (minibatch_X, minibatch_Y) = minibatch\n",
    "                # IMPORTANT: The line that runs the graph on a minibatch.\n",
    "                # Run the session to execute the optimizer and the cost, the feedict should contain a minibatch for (X,Y).\n",
    "                _ , temp_cost = sess.run([optimizer, cost], feed_dict={X: minibatch_X, Y: minibatch_Y})\n",
    "                \n",
    "                minibatch_cost += temp_cost / num_minibatches\n",
    "                \n",
    "\n",
    "            # Print the cost every epoch\n",
    "            if print_cost == True and epoch % 5 == 0:\n",
    "                print (\"Cost after epoch %i: %f\" % (epoch, minibatch_cost))\n",
    "            if print_cost == True and epoch % 1 == 0:\n",
    "                costs.append(minibatch_cost)\n",
    "            # save parameters\n",
    "            if epoch == num_epochs-1:\n",
    "                saver.save(sess,'D:/aiproj/params.ckpt')\n",
    "        \n",
    "        \n",
    "        # plot the cost\n",
    "        plt.plot(np.squeeze(costs))\n",
    "        plt.ylabel('cost')\n",
    "        plt.xlabel('iterations (per tens)')\n",
    "        plt.title(\"Learning rate =\" + str(learning_rate))\n",
    "        plt.show()\n",
    "\n",
    "        # Calculate the correct predictions\n",
    "        predict_op = tf.argmax(Z2, 1)\n",
    "        correct_prediction = tf.equal(predict_op, tf.argmax(Y, 1))\n",
    "        \n",
    "        # Calculate accuracy on the test set\n",
    "        accuracy = tf.reduce_mean(tf.cast(correct_prediction, \"float\"))\n",
    "        print(accuracy)\n",
    "        train_accuracy = accuracy.eval({X: X_train, Y: Y_train})\n",
    "        test_accuracy = accuracy.eval({X: X_test, Y: Y_test})\n",
    "        print(\"Train Accuracy:\", train_accuracy)\n",
    "        print(\"Test Accuracy:\", test_accuracy)\n",
    "                \n",
    "        return train_accuracy, test_accuracy, parameters"
   ]
  },
  {
   "cell_type": "code",
   "execution_count": 65,
   "metadata": {},
   "outputs": [
    {
     "name": "stdout",
     "output_type": "stream",
     "text": [
      "Cost after epoch 0: 0.729973\n",
      "Cost after epoch 5: 0.056070\n",
      "Cost after epoch 10: 0.046498\n",
      "Cost after epoch 15: 0.046803\n",
      "Cost after epoch 20: 0.038459\n",
      "Cost after epoch 25: 0.029468\n"
     ]
    },
    {
     "data": {
      "image/png": "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\n",
      "text/plain": [
       "<Figure size 432x288 with 1 Axes>"
      ]
     },
     "metadata": {
      "needs_background": "light"
     },
     "output_type": "display_data"
    },
    {
     "name": "stdout",
     "output_type": "stream",
     "text": [
      "Tensor(\"Mean_1:0\", shape=(), dtype=float32)\n",
      "Train Accuracy: 0.9945\n",
      "Test Accuracy: 0.951\n"
     ]
    }
   ],
   "source": [
    "_, _, parameters = Model(X_train, Y_train, X_test, Y_test)"
   ]
  },
  {
   "cell_type": "markdown",
   "metadata": {},
   "source": [
    "可以看到该模型在测试集上的精度达到了95%，有大幅度的提升"
   ]
  },
  {
   "cell_type": "markdown",
   "metadata": {},
   "source": [
    "# 3. 预测"
   ]
  },
  {
   "cell_type": "markdown",
   "metadata": {},
   "source": [
    "使用在测试集上效果更好的三层卷积神经网络进行预测。先从数据集中随机抽取图片，作为演示"
   ]
  },
  {
   "cell_type": "code",
   "execution_count": 70,
   "metadata": {},
   "outputs": [
    {
     "name": "stdout",
     "output_type": "stream",
     "text": [
      "5157\n",
      "INFO:tensorflow:Restoring parameters from D:/aiproj/params.ckpt\n",
      "y = 7\n",
      "[[-25.786114  -73.70817   -51.24468   -24.025043  -15.657736   -5.9720273\n",
      "  -23.6557     37.65072   -28.132544    5.661945  -16.483315 ]]\n",
      "[7]\n",
      "predict y = [7]\n"
     ]
    },
    {
     "data": {
      "image/png": "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\n",
      "text/plain": [
       "<Figure size 432x288 with 1 Axes>"
      ]
     },
     "metadata": {
      "needs_background": "light"
     },
     "output_type": "display_data"
    }
   ],
   "source": [
    "index = np.random.randint(0,8000) # choose from trainset randomly\n",
    "print(index)\n",
    "tf.reset_default_graph()\n",
    "\n",
    "#predict\n",
    "with tf.Session() as sess:\n",
    "    np.random.seed(1)\n",
    "    X, Y = create_placeholders(64, 64, 3, 11)\n",
    "    parameters = Initialize_parameters()\n",
    "    \n",
    "    # initial parameters\n",
    "    init = tf.global_variables_initializer()\n",
    "    sess.run(init)\n",
    "    # restore parameters\n",
    "    variables = tf.global_variables()\n",
    "    saver = tf.train.Saver()\n",
    "    saver.restore(sess,'D:/aiproj/params.ckpt')\n",
    "    \n",
    "    # predict\n",
    "    parametses = {variables[0],variables[1],variables[2]}\n",
    "    predict_result = Forward_propagation(X, parameters)\n",
    "    \n",
    "    #prepare data, use normalized data\n",
    "    X_from_trainset = X_train[index].astype(np.float32)\n",
    "    X_from_trainset = np.reshape(X_from_trainset,[1,64,64,3])\n",
    "    Y_from_trainset = Y_train[index,:]\n",
    "    Y_from_trainset = np.reshape(Y_from_trainset,[1,11])\n",
    "    \n",
    "    # display this picture\n",
    "    plt.imshow(X_train_orig[index])\n",
    "    print (\"y = \" + str(np.squeeze(Y_train_orig[:, index])))\n",
    "    #\n",
    "\n",
    "    # display predict result\n",
    "    a = sess.run(predict_result, {X: X_from_trainset, Y: Y_from_trainset})\n",
    "    print(a)\n",
    "    predict_class = np.argmax(a, 1)\n",
    "    print(predict_class)\n",
    "    print(\"predict y = \" + str(predict_class))"
   ]
  },
  {
   "cell_type": "markdown",
   "metadata": {},
   "source": [
    "再用自己手写的其他数据进行预测。test1.jpg是一张汉字“三”，test2.jpg是一张汉字“四”（选择结构较为简单和结构较为复杂的两个汉字作为典例）"
   ]
  },
  {
   "cell_type": "code",
   "execution_count": 71,
   "metadata": {
    "scrolled": true
   },
   "outputs": [
    {
     "name": "stdout",
     "output_type": "stream",
     "text": [
      "(64, 64, 3)\n",
      "INFO:tensorflow:Restoring parameters from D:/aiproj/params.ckpt\n",
      "[[ -77.64055   -53.457787   31.4202     83.30785   -26.356907   39.751236\n",
      "    13.129423  -18.13931  -115.00361   -70.76273   -68.00895 ]]\n",
      "predict y = [3]\n"
     ]
    },
    {
     "data": {
      "image/png": "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\n",
      "text/plain": [
       "<Figure size 432x288 with 1 Axes>"
      ]
     },
     "metadata": {
      "needs_background": "light"
     },
     "output_type": "display_data"
    }
   ],
   "source": [
    "tf.reset_default_graph()\n",
    "\n",
    "#load a picture taken by yourself\n",
    "my_image = Image.open('D:/aiproj/test1.jpg')\n",
    "my_image = my_image.resize((64,64))\n",
    "# display this picture\n",
    "plt.imshow(my_image)\n",
    "\n",
    "#prepare data\n",
    "X_my_image = np.array(my_image)/255. # normalization\n",
    "print(X_my_image.shape)\n",
    "X_my_image = X_my_image.astype(np.float32)\n",
    "X_my_image = np.reshape(X_my_image,[1,64,64,3])\n",
    "\n",
    "with tf.Session() as sess:\n",
    "    np.random.seed(1)\n",
    "    X, Y = create_placeholders(64, 64, 3, 11)\n",
    "    parameters = Initialize_parameters()\n",
    "    \n",
    "    #initialize parameters\n",
    "    init = tf.global_variables_initializer()\n",
    "    sess.run(init)\n",
    "    \n",
    "    #restore parameters\n",
    "    variables = tf.global_variables()\n",
    "    saver = tf.train.Saver()\n",
    "    saver.restore(sess,'D:/aiproj/params.ckpt')\n",
    "    \n",
    "    #predict\n",
    "    parametses = {variables[0],variables[1],variables[2]}\n",
    "    predict_result = Forward_propagation(X, parameters)\n",
    "    \n",
    "    #display predict result\n",
    "    a = sess.run(predict_result, {X: X_my_image, Y: [[0,0,0,1,0,0,0,0,0,0,0]]})\n",
    "    print(a)\n",
    "    predict_class = np.argmax(a, 1)\n",
    "    print(\"predict y = \" + str(predict_class))"
   ]
  },
  {
   "cell_type": "code",
   "execution_count": 72,
   "metadata": {},
   "outputs": [
    {
     "name": "stdout",
     "output_type": "stream",
     "text": [
      "(64, 64, 3)\n",
      "INFO:tensorflow:Restoring parameters from D:/aiproj/params.ckpt\n",
      "[[ -75.50104  -127.42572  -193.9236    -68.69578   162.63399   -43.66004\n",
      "    36.355087  -12.107405  -41.75945   -54.70573    -5.450508]]\n",
      "predict y = [4]\n"
     ]
    },
    {
     "data": {
      "image/png": "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\n",
      "text/plain": [
       "<Figure size 432x288 with 1 Axes>"
      ]
     },
     "metadata": {
      "needs_background": "light"
     },
     "output_type": "display_data"
    }
   ],
   "source": [
    "tf.reset_default_graph()\n",
    "\n",
    "#load a picture taken by yourself\n",
    "my_image = Image.open('D:/aiproj/test2.jpg')\n",
    "my_image = my_image.resize((64,64))\n",
    "# display this picture\n",
    "plt.imshow(my_image)\n",
    "\n",
    "#prepare data\n",
    "X_my_image = np.array(my_image)/255. # normalization\n",
    "print(X_my_image.shape)\n",
    "X_my_image = X_my_image.astype(np.float32)\n",
    "X_my_image = np.reshape(X_my_image,[1,64,64,3])\n",
    "\n",
    "with tf.Session() as sess:\n",
    "    np.random.seed(1)\n",
    "    X, Y = create_placeholders(64, 64, 3, 11)\n",
    "    parameters = Initialize_parameters()\n",
    "    \n",
    "    #initialize parameters\n",
    "    init = tf.global_variables_initializer()\n",
    "    sess.run(init)\n",
    "    \n",
    "    #restore parameters\n",
    "    variables = tf.global_variables()\n",
    "    saver = tf.train.Saver()\n",
    "    saver.restore(sess,'D:/aiproj/params.ckpt')\n",
    "    \n",
    "    #predict\n",
    "    parametses = {variables[0],variables[1],variables[2]}\n",
    "    predict_result = Forward_propagation(X, parameters)\n",
    "    \n",
    "    #display predict result\n",
    "    a = sess.run(predict_result, {X: X_my_image, Y: [[0,0,0,1,0,0,0,0,0,0,0]]})\n",
    "    print(a)\n",
    "    predict_class = np.argmax(a, 1)\n",
    "    print(\"predict y = \" + str(predict_class))"
   ]
  }
 ],
 "metadata": {
  "kernelspec": {
   "display_name": "Python 3",
   "language": "python",
   "name": "python3"
  },
  "language_info": {
   "codemirror_mode": {
    "name": "ipython",
    "version": 3
   },
   "file_extension": ".py",
   "mimetype": "text/x-python",
   "name": "python",
   "nbconvert_exporter": "python",
   "pygments_lexer": "ipython3",
   "version": "3.6.13"
  }
 },
 "nbformat": 4,
 "nbformat_minor": 4
}
